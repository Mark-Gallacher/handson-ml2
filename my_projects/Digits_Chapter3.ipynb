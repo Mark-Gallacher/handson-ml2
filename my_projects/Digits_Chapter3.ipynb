{
 "cells": [
  {
   "cell_type": "code",
   "execution_count": 1,
   "id": "4d1e4417-cc5b-4366-960f-3c2579441e59",
   "metadata": {},
   "outputs": [
    {
     "name": "stdout",
     "output_type": "stream",
     "text": [
      "Starting 8 engines with <class 'ipyparallel.cluster.launcher.LocalEngineSetLauncher'>\n"
     ]
    },
    {
     "data": {
      "text/plain": [
       "<Cluster(cluster_id='1717668069-bl7k', profile='default', controller=<running>, engine_sets=['1717668070'])>"
      ]
     },
     "execution_count": 1,
     "metadata": {},
     "output_type": "execute_result"
    }
   ],
   "source": [
    "import ipyparallel as ipp\n",
    "from ipyparallel import Client\n",
    "\n",
    "cluster = ipp.Cluster(n = 8)\n",
    "# await cluster.start_cluster()\n",
    "cluster.start_cluster_sync()\n",
    "# or cluster.start_cluster_sync() without await\n",
    "# Using existing profile dir: '/Users/X/.ipython/profile_default'\n",
    "# Starting 4 engines with <class 'ipyparallel.cluster.launcher.LocalEngineSetLauncher'>\n",
    "\n",
    "# clusters = ipp.ClusterManager().load_clusters() "
   ]
  },
  {
   "cell_type": "code",
   "execution_count": 4,
   "id": "219b43a7-5224-4d32-8f94-f20e4907cf2f",
   "metadata": {},
   "outputs": [],
   "source": [
    "rc = Client(profile = \"default\", cluster_id = '1717668069-bl7k')"
   ]
  },
  {
   "cell_type": "markdown",
   "id": "cea0d967-6961-4d52-a6f5-0ad15a81ee0d",
   "metadata": {},
   "source": [
    "# Classification"
   ]
  },
  {
   "cell_type": "markdown",
   "id": "a142ef5d-3b0f-436f-ab0b-5d483d8acfc6",
   "metadata": {},
   "source": [
    "### This chapter will look into classification using the famous MNIST dataset, which contains images of handwriten digits. Fortunately, each image is labelled"
   ]
  },
  {
   "cell_type": "code",
   "execution_count": 41,
   "id": "779352da-4a9b-4f75-a967-b3ed42f6954a",
   "metadata": {},
   "outputs": [],
   "source": [
    "import numpy as np\n",
    "import pandas as pd\n",
    "import matplotlib as mpl\n",
    "import matplotlib.pyplot as plt\n",
    "\n",
    "\n",
    "from sklearn.datasets import fetch_openml"
   ]
  },
  {
   "cell_type": "markdown",
   "id": "414980a5-eb5b-4c14-8430-c3af64e23665",
   "metadata": {},
   "source": [
    "## Importing and Exploring the Dataset"
   ]
  },
  {
   "cell_type": "code",
   "execution_count": 4,
   "id": "43c17e67-2e46-4c73-b003-514551606218",
   "metadata": {},
   "outputs": [],
   "source": [
    "mnist = fetch_openml(\"mnist_784\", version = 1, as_frame=False)"
   ]
  },
  {
   "cell_type": "code",
   "execution_count": 5,
   "id": "93c7ef90-f013-40d2-9820-30c0635aebf7",
   "metadata": {},
   "outputs": [
    {
     "data": {
      "text/plain": [
       "dict_keys(['data', 'target', 'frame', 'categories', 'feature_names', 'target_names', 'DESCR', 'details', 'url'])"
      ]
     },
     "execution_count": 5,
     "metadata": {},
     "output_type": "execute_result"
    }
   ],
   "source": [
    "mnist.keys()"
   ]
  },
  {
   "cell_type": "markdown",
   "id": "adaf8b0b-ae35-4fab-97de-60e89e3bfb85",
   "metadata": {},
   "source": [
    "Let's explore some of the keys, to get a better idea of the dataset."
   ]
  },
  {
   "cell_type": "code",
   "execution_count": 6,
   "id": "7d3486a5-4e23-4086-ace1-f15cfa3f2b35",
   "metadata": {
    "scrolled": true
   },
   "outputs": [
    {
     "data": {
      "text/plain": [
       "\"**Author**: Yann LeCun, Corinna Cortes, Christopher J.C. Burges  \\n**Source**: [MNIST Website](http://yann.lecun.com/exdb/mnist/) - Date unknown  \\n**Please cite**:  \\n\\nThe MNIST database of handwritten digits with 784 features, raw data available at: http://yann.lecun.com/exdb/mnist/. It can be split in a training set of the first 60,000 examples, and a test set of 10,000 examples  \\n\\nIt is a subset of a larger set available from NIST. The digits have been size-normalized and centered in a fixed-size image. It is a good database for people who want to try learning techniques and pattern recognition methods on real-world data while spending minimal efforts on preprocessing and formatting. The original black and white (bilevel) images from NIST were size normalized to fit in a 20x20 pixel box while preserving their aspect ratio. The resulting images contain grey levels as a result of the anti-aliasing technique used by the normalization algorithm. the images were centered in a 28x28 image by computing the center of mass of the pixels, and translating the image so as to position this point at the center of the 28x28 field.  \\n\\nWith some classification methods (particularly template-based methods, such as SVM and K-nearest neighbors), the error rate improves when the digits are centered by bounding box rather than center of mass. If you do this kind of pre-processing, you should report it in your publications. The MNIST database was constructed from NIST's NIST originally designated SD-3 as their training set and SD-1 as their test set. However, SD-3 is much cleaner and easier to recognize than SD-1. The reason for this can be found on the fact that SD-3 was collected among Census Bureau employees, while SD-1 was collected among high-school students. Drawing sensible conclusions from learning experiments requires that the result be independent of the choice of training set and test among the complete set of samples. Therefore it was necessary to build a new database by mixing NIST's datasets.  \\n\\nThe MNIST training set is composed of 30,000 patterns from SD-3 and 30,000 patterns from SD-1. Our test set was composed of 5,000 patterns from SD-3 and 5,000 patterns from SD-1. The 60,000 pattern training set contained examples from approximately 250 writers. We made sure that the sets of writers of the training set and test set were disjoint. SD-1 contains 58,527 digit images written by 500 different writers. In contrast to SD-3, where blocks of data from each writer appeared in sequence, the data in SD-1 is scrambled. Writer identities for SD-1 is available and we used this information to unscramble the writers. We then split SD-1 in two: characters written by the first 250 writers went into our new training set. The remaining 250 writers were placed in our test set. Thus we had two sets with nearly 30,000 examples each. The new training set was completed with enough examples from SD-3, starting at pattern # 0, to make a full set of 60,000 training patterns. Similarly, the new test set was completed with SD-3 examples starting at pattern # 35,000 to make a full set with 60,000 test patterns. Only a subset of 10,000 test images (5,000 from SD-1 and 5,000 from SD-3) is available on this site. The full 60,000 sample training set is available.\\n\\nDownloaded from openml.org.\""
      ]
     },
     "execution_count": 6,
     "metadata": {},
     "output_type": "execute_result"
    }
   ],
   "source": [
    "mnist[\"DESCR\"]"
   ]
  },
  {
   "cell_type": "code",
   "execution_count": 7,
   "id": "03be7b53-434f-4fde-9fef-8bd520a5b4dd",
   "metadata": {
    "scrolled": true
   },
   "outputs": [
    {
     "data": {
      "text/plain": [
       "array([[0, 0, 0, ..., 0, 0, 0],\n",
       "       [0, 0, 0, ..., 0, 0, 0],\n",
       "       [0, 0, 0, ..., 0, 0, 0],\n",
       "       ...,\n",
       "       [0, 0, 0, ..., 0, 0, 0],\n",
       "       [0, 0, 0, ..., 0, 0, 0],\n",
       "       [0, 0, 0, ..., 0, 0, 0]], dtype=int64)"
      ]
     },
     "execution_count": 7,
     "metadata": {},
     "output_type": "execute_result"
    }
   ],
   "source": [
    "mnist[\"data\"]"
   ]
  },
  {
   "cell_type": "code",
   "execution_count": 8,
   "id": "c00426e6-7240-4229-878a-9851434dcccf",
   "metadata": {},
   "outputs": [
    {
     "data": {
      "text/plain": [
       "array(['5', '0', '4', ..., '4', '5', '6'], dtype=object)"
      ]
     },
     "execution_count": 8,
     "metadata": {},
     "output_type": "execute_result"
    }
   ],
   "source": [
    "mnist[\"target\"]"
   ]
  },
  {
   "cell_type": "code",
   "execution_count": 9,
   "id": "5531fd4e-73e4-4816-bae3-75a67bdca4ea",
   "metadata": {},
   "outputs": [
    {
     "data": {
      "text/plain": [
       "(70000, 784)"
      ]
     },
     "execution_count": 9,
     "metadata": {},
     "output_type": "execute_result"
    }
   ],
   "source": [
    "X, y = mnist[\"data\"], mnist[\"target\"] ## extract the features and the labels\n",
    "\n",
    "X.shape"
   ]
  },
  {
   "cell_type": "markdown",
   "id": "083b696f-baa7-45ed-98da-6c71bd90740d",
   "metadata": {},
   "source": [
    "\n",
    "The target is the number the image represents, which is a simple integre. The data has 70,000 images (stored as 70,000 rows) and each image is a 28x28 image (784 colunns) which store a value between 0 and 255, for white and black respectively. \n"
   ]
  },
  {
   "cell_type": "code",
   "execution_count": 10,
   "id": "889c204a-2304-4ee0-af6e-5e520a3a4155",
   "metadata": {},
   "outputs": [
    {
     "data": {
      "image/png": "[encoded data removed]",
      "text/plain": [
       "<Figure size 640x480 with 1 Axes>"
      ]
     },
     "metadata": {},
     "output_type": "display_data"
    }
   ],
   "source": [
    "some_digit = X[0]\n",
    "some_digit_image = some_digit.reshape(28, 28)\n",
    "\n",
    "plt.imshow(some_digit_image, cmap = \"binary\")\n",
    "plt.axis(\"off\")\n",
    "plt.show()"
   ]
  },
  {
   "cell_type": "code",
   "execution_count": 11,
   "id": "7d3d351e-07ee-4965-8d79-bd14a1cf2c74",
   "metadata": {},
   "outputs": [
    {
     "data": {
      "text/plain": [
       "5"
      ]
     },
     "execution_count": 11,
     "metadata": {},
     "output_type": "execute_result"
    }
   ],
   "source": [
    "y = y.astype(np.uint8) ## convert the strings to numbers\n",
    "y[0] ## the image is labelled as 5, and it looks like a 5"
   ]
  },
  {
   "cell_type": "markdown",
   "id": "ab1fcc12-2335-48c8-9430-bb096ee93fdc",
   "metadata": {},
   "source": [
    "# Training a Binary Classifier"
   ]
  },
  {
   "cell_type": "markdown",
   "id": "50c8cc7d-779d-426f-a7a5-8e825a8006c8",
   "metadata": {},
   "source": [
    "Before we jump into multi-class classification, let's focus on the principles of classification in a more simple context. The simpliest is likely the binary classification problem. Let's follow the book and use 5 as the target, and all other values will be denoted by 0. That means we are trying to find if a number is actually 5 or not, without caring what the other number is - like the difference between 1 and 7. "
   ]
  },
  {
   "cell_type": "code",
   "execution_count": 12,
   "id": "1c554ce2-ab62-4f11-af4e-b1ba0981136c",
   "metadata": {},
   "outputs": [],
   "source": [
    "X_train, X_test, y_train, y_test = X[:60000], X[60000:], y[:60000], y[60000:]"
   ]
  },
  {
   "cell_type": "markdown",
   "id": "b68ac143-e5f3-4b33-8627-9e644330ae2b",
   "metadata": {},
   "source": [
    "Let's comvert our label into a binary value"
   ]
  },
  {
   "cell_type": "code",
   "execution_count": 13,
   "id": "1e715dd6-43c6-4a20-b5d4-d7ea86cc6448",
   "metadata": {},
   "outputs": [
    {
     "data": {
      "text/plain": [
       "array([ True, False, False, ...,  True, False, False])"
      ]
     },
     "execution_count": 13,
     "metadata": {},
     "output_type": "execute_result"
    }
   ],
   "source": [
    "y_train_5 = (y_train == 5)\n",
    "y_test_5 = (y_test == 5)\n",
    "\n",
    "y_train_5  ## BOOLEAN array"
   ]
  },
  {
   "cell_type": "markdown",
   "id": "37b54a9d-6910-4bf1-bfb9-f81da27007a7",
   "metadata": {},
   "source": [
    "### Stochastic Gradient Descent (SGD)"
   ]
  },
  {
   "cell_type": "code",
   "execution_count": 14,
   "id": "8fdd804b-2e0f-4926-9107-42f3ae762614",
   "metadata": {},
   "outputs": [
    {
     "data": {
      "text/html": [
       "<style>#sk-container-id-1 {\n",
       "  /* Definition of color scheme common for light and dark mode */\n",
       "  --sklearn-color-text: black;\n",
       "  --sklearn-color-line: gray;\n",
       "  /* Definition of color scheme for unfitted estimators */\n",
       "  --sklearn-color-unfitted-level-0: #fff5e6;\n",
       "  --sklearn-color-unfitted-level-1: #f6e4d2;\n",
       "  --sklearn-color-unfitted-level-2: #ffe0b3;\n",
       "  --sklearn-color-unfitted-level-3: chocolate;\n",
       "  /* Definition of color scheme for fitted estimators */\n",
       "  --sklearn-color-fitted-level-0: #f0f8ff;\n",
       "  --sklearn-color-fitted-level-1: #d4ebff;\n",
       "  --sklearn-color-fitted-level-2: #b3dbfd;\n",
       "  --sklearn-color-fitted-level-3: cornflowerblue;\n",
       "\n",
       "  /* Specific color for light theme */\n",
       "  --sklearn-color-text-on-default-background: var(--sg-text-color, var(--theme-code-foreground, var(--jp-content-font-color1, black)));\n",
       "  --sklearn-color-background: var(--sg-background-color, var(--theme-background, var(--jp-layout-color0, white)));\n",
       "  --sklearn-color-border-box: var(--sg-text-color, var(--theme-code-foreground, var(--jp-content-font-color1, black)));\n",
       "  --sklearn-color-icon: #696969;\n",
       "\n",
       "  @media (prefers-color-scheme: dark) {\n",
       "    /* Redefinition of color scheme for dark theme */\n",
       "    --sklearn-color-text-on-default-background: var(--sg-text-color, var(--theme-code-foreground, var(--jp-content-font-color1, white)));\n",
       "    --sklearn-color-background: var(--sg-background-color, var(--theme-background, var(--jp-layout-color0, #111)));\n",
       "    --sklearn-color-border-box: var(--sg-text-color, var(--theme-code-foreground, var(--jp-content-font-color1, white)));\n",
       "    --sklearn-color-icon: #878787;\n",
       "  }\n",
       "}\n",
       "\n",
       "#sk-container-id-1 {\n",
       "  color: var(--sklearn-color-text);\n",
       "}\n",
       "\n",
       "#sk-container-id-1 pre {\n",
       "  padding: 0;\n",
       "}\n",
       "\n",
       "#sk-container-id-1 input.sk-hidden--visually {\n",
       "  border: 0;\n",
       "  clip: rect(1px 1px 1px 1px);\n",
       "  clip: rect(1px, 1px, 1px, 1px);\n",
       "  height: 1px;\n",
       "  margin: -1px;\n",
       "  overflow: hidden;\n",
       "  padding: 0;\n",
       "  position: absolute;\n",
       "  width: 1px;\n",
       "}\n",
       "\n",
       "#sk-container-id-1 div.sk-dashed-wrapped {\n",
       "  border: 1px dashed var(--sklearn-color-line);\n",
       "  margin: 0 0.4em 0.5em 0.4em;\n",
       "  box-sizing: border-box;\n",
       "  padding-bottom: 0.4em;\n",
       "  background-color: var(--sklearn-color-background);\n",
       "}\n",
       "\n",
       "#sk-container-id-1 div.sk-container {\n",
       "  /* jupyter's `normalize.less` sets `[hidden] { display: none; }`\n",
       "     but bootstrap.min.css set `[hidden] { display: none !important; }`\n",
       "     so we also need the `!important` here to be able to override the\n",
       "     default hidden behavior on the sphinx rendered scikit-learn.org.\n",
       "     See: https://github.com/scikit-learn/scikit-learn/issues/21755 */\n",
       "  display: inline-block !important;\n",
       "  position: relative;\n",
       "}\n",
       "\n",
       "#sk-container-id-1 div.sk-text-repr-fallback {\n",
       "  display: none;\n",
       "}\n",
       "\n",
       "div.sk-parallel-item,\n",
       "div.sk-serial,\n",
       "div.sk-item {\n",
       "  /* draw centered vertical line to link estimators */\n",
       "  background-image: linear-gradient(var(--sklearn-color-text-on-default-background), var(--sklearn-color-text-on-default-background));\n",
       "  background-size: 2px 100%;\n",
       "  background-repeat: no-repeat;\n",
       "  background-position: center center;\n",
       "}\n",
       "\n",
       "/* Parallel-specific style estimator block */\n",
       "\n",
       "#sk-container-id-1 div.sk-parallel-item::after {\n",
       "  content: \"\";\n",
       "  width: 100%;\n",
       "  border-bottom: 2px solid var(--sklearn-color-text-on-default-background);\n",
       "  flex-grow: 1;\n",
       "}\n",
       "\n",
       "#sk-container-id-1 div.sk-parallel {\n",
       "  display: flex;\n",
       "  align-items: stretch;\n",
       "  justify-content: center;\n",
       "  background-color: var(--sklearn-color-background);\n",
       "  position: relative;\n",
       "}\n",
       "\n",
       "#sk-container-id-1 div.sk-parallel-item {\n",
       "  display: flex;\n",
       "  flex-direction: column;\n",
       "}\n",
       "\n",
       "#sk-container-id-1 div.sk-parallel-item:first-child::after {\n",
       "  align-self: flex-end;\n",
       "  width: 50%;\n",
       "}\n",
       "\n",
       "#sk-container-id-1 div.sk-parallel-item:last-child::after {\n",
       "  align-self: flex-start;\n",
       "  width: 50%;\n",
       "}\n",
       "\n",
       "#sk-container-id-1 div.sk-parallel-item:only-child::after {\n",
       "  width: 0;\n",
       "}\n",
       "\n",
       "/* Serial-specific style estimator block */\n",
       "\n",
       "#sk-container-id-1 div.sk-serial {\n",
       "  display: flex;\n",
       "  flex-direction: column;\n",
       "  align-items: center;\n",
       "  background-color: var(--sklearn-color-background);\n",
       "  padding-right: 1em;\n",
       "  padding-left: 1em;\n",
       "}\n",
       "\n",
       "\n",
       "/* Toggleable style: style used for estimator/Pipeline/ColumnTransformer box that is\n",
       "clickable and can be expanded/collapsed.\n",
       "- Pipeline and ColumnTransformer use this feature and define the default style\n",
       "- Estimators will overwrite some part of the style using the `sk-estimator` class\n",
       "*/\n",
       "\n",
       "/* Pipeline and ColumnTransformer style (default) */\n",
       "\n",
       "#sk-container-id-1 div.sk-toggleable {\n",
       "  /* Default theme specific background. It is overwritten whether we have a\n",
       "  specific estimator or a Pipeline/ColumnTransformer */\n",
       "  background-color: var(--sklearn-color-background);\n",
       "}\n",
       "\n",
       "/* Toggleable label */\n",
       "#sk-container-id-1 label.sk-toggleable__label {\n",
       "  cursor: pointer;\n",
       "  display: block;\n",
       "  width: 100%;\n",
       "  margin-bottom: 0;\n",
       "  padding: 0.5em;\n",
       "  box-sizing: border-box;\n",
       "  text-align: center;\n",
       "}\n",
       "\n",
       "#sk-container-id-1 label.sk-toggleable__label-arrow:before {\n",
       "  /* Arrow on the left of the label */\n",
       "  content: \"▸\";\n",
       "  float: left;\n",
       "  margin-right: 0.25em;\n",
       "  color: var(--sklearn-color-icon);\n",
       "}\n",
       "\n",
       "#sk-container-id-1 label.sk-toggleable__label-arrow:hover:before {\n",
       "  color: var(--sklearn-color-text);\n",
       "}\n",
       "\n",
       "/* Toggleable content - dropdown */\n",
       "\n",
       "#sk-container-id-1 div.sk-toggleable__content {\n",
       "  max-height: 0;\n",
       "  max-width: 0;\n",
       "  overflow: hidden;\n",
       "  text-align: left;\n",
       "  /* unfitted */\n",
       "  background-color: var(--sklearn-color-unfitted-level-0);\n",
       "}\n",
       "\n",
       "#sk-container-id-1 div.sk-toggleable__content.fitted {\n",
       "  /* fitted */\n",
       "  background-color: var(--sklearn-color-fitted-level-0);\n",
       "}\n",
       "\n",
       "#sk-container-id-1 div.sk-toggleable__content pre {\n",
       "  margin: 0.2em;\n",
       "  border-radius: 0.25em;\n",
       "  color: var(--sklearn-color-text);\n",
       "  /* unfitted */\n",
       "  background-color: var(--sklearn-color-unfitted-level-0);\n",
       "}\n",
       "\n",
       "#sk-container-id-1 div.sk-toggleable__content.fitted pre {\n",
       "  /* unfitted */\n",
       "  background-color: var(--sklearn-color-fitted-level-0);\n",
       "}\n",
       "\n",
       "#sk-container-id-1 input.sk-toggleable__control:checked~div.sk-toggleable__content {\n",
       "  /* Expand drop-down */\n",
       "  max-height: 200px;\n",
       "  max-width: 100%;\n",
       "  overflow: auto;\n",
       "}\n",
       "\n",
       "#sk-container-id-1 input.sk-toggleable__control:checked~label.sk-toggleable__label-arrow:before {\n",
       "  content: \"▾\";\n",
       "}\n",
       "\n",
       "/* Pipeline/ColumnTransformer-specific style */\n",
       "\n",
       "#sk-container-id-1 div.sk-label input.sk-toggleable__control:checked~label.sk-toggleable__label {\n",
       "  color: var(--sklearn-color-text);\n",
       "  background-color: var(--sklearn-color-unfitted-level-2);\n",
       "}\n",
       "\n",
       "#sk-container-id-1 div.sk-label.fitted input.sk-toggleable__control:checked~label.sk-toggleable__label {\n",
       "  background-color: var(--sklearn-color-fitted-level-2);\n",
       "}\n",
       "\n",
       "/* Estimator-specific style */\n",
       "\n",
       "/* Colorize estimator box */\n",
       "#sk-container-id-1 div.sk-estimator input.sk-toggleable__control:checked~label.sk-toggleable__label {\n",
       "  /* unfitted */\n",
       "  background-color: var(--sklearn-color-unfitted-level-2);\n",
       "}\n",
       "\n",
       "#sk-container-id-1 div.sk-estimator.fitted input.sk-toggleable__control:checked~label.sk-toggleable__label {\n",
       "  /* fitted */\n",
       "  background-color: var(--sklearn-color-fitted-level-2);\n",
       "}\n",
       "\n",
       "#sk-container-id-1 div.sk-label label.sk-toggleable__label,\n",
       "#sk-container-id-1 div.sk-label label {\n",
       "  /* The background is the default theme color */\n",
       "  color: var(--sklearn-color-text-on-default-background);\n",
       "}\n",
       "\n",
       "/* On hover, darken the color of the background */\n",
       "#sk-container-id-1 div.sk-label:hover label.sk-toggleable__label {\n",
       "  color: var(--sklearn-color-text);\n",
       "  background-color: var(--sklearn-color-unfitted-level-2);\n",
       "}\n",
       "\n",
       "/* Label box, darken color on hover, fitted */\n",
       "#sk-container-id-1 div.sk-label.fitted:hover label.sk-toggleable__label.fitted {\n",
       "  color: var(--sklearn-color-text);\n",
       "  background-color: var(--sklearn-color-fitted-level-2);\n",
       "}\n",
       "\n",
       "/* Estimator label */\n",
       "\n",
       "#sk-container-id-1 div.sk-label label {\n",
       "  font-family: monospace;\n",
       "  font-weight: bold;\n",
       "  display: inline-block;\n",
       "  line-height: 1.2em;\n",
       "}\n",
       "\n",
       "#sk-container-id-1 div.sk-label-container {\n",
       "  text-align: center;\n",
       "}\n",
       "\n",
       "/* Estimator-specific */\n",
       "#sk-container-id-1 div.sk-estimator {\n",
       "  font-family: monospace;\n",
       "  border: 1px dotted var(--sklearn-color-border-box);\n",
       "  border-radius: 0.25em;\n",
       "  box-sizing: border-box;\n",
       "  margin-bottom: 0.5em;\n",
       "  /* unfitted */\n",
       "  background-color: var(--sklearn-color-unfitted-level-0);\n",
       "}\n",
       "\n",
       "#sk-container-id-1 div.sk-estimator.fitted {\n",
       "  /* fitted */\n",
       "  background-color: var(--sklearn-color-fitted-level-0);\n",
       "}\n",
       "\n",
       "/* on hover */\n",
       "#sk-container-id-1 div.sk-estimator:hover {\n",
       "  /* unfitted */\n",
       "  background-color: var(--sklearn-color-unfitted-level-2);\n",
       "}\n",
       "\n",
       "#sk-container-id-1 div.sk-estimator.fitted:hover {\n",
       "  /* fitted */\n",
       "  background-color: var(--sklearn-color-fitted-level-2);\n",
       "}\n",
       "\n",
       "/* Specification for estimator info (e.g. \"i\" and \"?\") */\n",
       "\n",
       "/* Common style for \"i\" and \"?\" */\n",
       "\n",
       ".sk-estimator-doc-link,\n",
       "a:link.sk-estimator-doc-link,\n",
       "a:visited.sk-estimator-doc-link {\n",
       "  float: right;\n",
       "  font-size: smaller;\n",
       "  line-height: 1em;\n",
       "  font-family: monospace;\n",
       "  background-color: var(--sklearn-color-background);\n",
       "  border-radius: 1em;\n",
       "  height: 1em;\n",
       "  width: 1em;\n",
       "  text-decoration: none !important;\n",
       "  margin-left: 1ex;\n",
       "  /* unfitted */\n",
       "  border: var(--sklearn-color-unfitted-level-1) 1pt solid;\n",
       "  color: var(--sklearn-color-unfitted-level-1);\n",
       "}\n",
       "\n",
       ".sk-estimator-doc-link.fitted,\n",
       "a:link.sk-estimator-doc-link.fitted,\n",
       "a:visited.sk-estimator-doc-link.fitted {\n",
       "  /* fitted */\n",
       "  border: var(--sklearn-color-fitted-level-1) 1pt solid;\n",
       "  color: var(--sklearn-color-fitted-level-1);\n",
       "}\n",
       "\n",
       "/* On hover */\n",
       "div.sk-estimator:hover .sk-estimator-doc-link:hover,\n",
       ".sk-estimator-doc-link:hover,\n",
       "div.sk-label-container:hover .sk-estimator-doc-link:hover,\n",
       ".sk-estimator-doc-link:hover {\n",
       "  /* unfitted */\n",
       "  background-color: var(--sklearn-color-unfitted-level-3);\n",
       "  color: var(--sklearn-color-background);\n",
       "  text-decoration: none;\n",
       "}\n",
       "\n",
       "div.sk-estimator.fitted:hover .sk-estimator-doc-link.fitted:hover,\n",
       ".sk-estimator-doc-link.fitted:hover,\n",
       "div.sk-label-container:hover .sk-estimator-doc-link.fitted:hover,\n",
       ".sk-estimator-doc-link.fitted:hover {\n",
       "  /* fitted */\n",
       "  background-color: var(--sklearn-color-fitted-level-3);\n",
       "  color: var(--sklearn-color-background);\n",
       "  text-decoration: none;\n",
       "}\n",
       "\n",
       "/* Span, style for the box shown on hovering the info icon */\n",
       ".sk-estimator-doc-link span {\n",
       "  display: none;\n",
       "  z-index: 9999;\n",
       "  position: relative;\n",
       "  font-weight: normal;\n",
       "  right: .2ex;\n",
       "  padding: .5ex;\n",
       "  margin: .5ex;\n",
       "  width: min-content;\n",
       "  min-width: 20ex;\n",
       "  max-width: 50ex;\n",
       "  color: var(--sklearn-color-text);\n",
       "  box-shadow: 2pt 2pt 4pt #999;\n",
       "  /* unfitted */\n",
       "  background: var(--sklearn-color-unfitted-level-0);\n",
       "  border: .5pt solid var(--sklearn-color-unfitted-level-3);\n",
       "}\n",
       "\n",
       ".sk-estimator-doc-link.fitted span {\n",
       "  /* fitted */\n",
       "  background: var(--sklearn-color-fitted-level-0);\n",
       "  border: var(--sklearn-color-fitted-level-3);\n",
       "}\n",
       "\n",
       ".sk-estimator-doc-link:hover span {\n",
       "  display: block;\n",
       "}\n",
       "\n",
       "/* \"?\"-specific style due to the `<a>` HTML tag */\n",
       "\n",
       "#sk-container-id-1 a.estimator_doc_link {\n",
       "  float: right;\n",
       "  font-size: 1rem;\n",
       "  line-height: 1em;\n",
       "  font-family: monospace;\n",
       "  background-color: var(--sklearn-color-background);\n",
       "  border-radius: 1rem;\n",
       "  height: 1rem;\n",
       "  width: 1rem;\n",
       "  text-decoration: none;\n",
       "  /* unfitted */\n",
       "  color: var(--sklearn-color-unfitted-level-1);\n",
       "  border: var(--sklearn-color-unfitted-level-1) 1pt solid;\n",
       "}\n",
       "\n",
       "#sk-container-id-1 a.estimator_doc_link.fitted {\n",
       "  /* fitted */\n",
       "  border: var(--sklearn-color-fitted-level-1) 1pt solid;\n",
       "  color: var(--sklearn-color-fitted-level-1);\n",
       "}\n",
       "\n",
       "/* On hover */\n",
       "#sk-container-id-1 a.estimator_doc_link:hover {\n",
       "  /* unfitted */\n",
       "  background-color: var(--sklearn-color-unfitted-level-3);\n",
       "  color: var(--sklearn-color-background);\n",
       "  text-decoration: none;\n",
       "}\n",
       "\n",
       "#sk-container-id-1 a.estimator_doc_link.fitted:hover {\n",
       "  /* fitted */\n",
       "  background-color: var(--sklearn-color-fitted-level-3);\n",
       "}\n",
       "</style><div id=\"sk-container-id-1\" class=\"sk-top-container\"><div class=\"sk-text-repr-fallback\"><pre>SGDClassifier(random_state=42)</pre><b>In a Jupyter environment, please rerun this cell to show the HTML representation or trust the notebook. <br />On GitHub, the HTML representation is unable to render, please try loading this page with nbviewer.org.</b></div><div class=\"sk-container\" hidden><div class=\"sk-item\"><div class=\"sk-estimator fitted sk-toggleable\"><input class=\"sk-toggleable__control sk-hidden--visually\" id=\"sk-estimator-id-1\" type=\"checkbox\" checked><label for=\"sk-estimator-id-1\" class=\"sk-toggleable__label fitted sk-toggleable__label-arrow fitted\">&nbsp;&nbsp;SGDClassifier<a class=\"sk-estimator-doc-link fitted\" rel=\"noreferrer\" target=\"_blank\" href=\"https://scikit-learn.org/1.4/modules/generated/sklearn.linear_model.SGDClassifier.html\">?<span>Documentation for SGDClassifier</span></a><span class=\"sk-estimator-doc-link fitted\">i<span>Fitted</span></span></label><div class=\"sk-toggleable__content fitted\"><pre>SGDClassifier(random_state=42)</pre></div> </div></div></div></div>"
      ],
      "text/plain": [
       "SGDClassifier(random_state=42)"
      ]
     },
     "execution_count": 14,
     "metadata": {},
     "output_type": "execute_result"
    }
   ],
   "source": [
    "from sklearn.linear_model import SGDClassifier\n",
    "\n",
    "sgd_clf = SGDClassifier(random_state = 42)\n",
    "sgd_clf.fit(X_train, y_train_5)"
   ]
  },
  {
   "cell_type": "code",
   "execution_count": 15,
   "id": "3c3ecc91-4421-44ec-aedf-530b33e90882",
   "metadata": {},
   "outputs": [
    {
     "data": {
      "text/plain": [
       "array([ True])"
      ]
     },
     "execution_count": 15,
     "metadata": {},
     "output_type": "execute_result"
    }
   ],
   "source": [
    "sgd_clf.predict([ some_digit ]) ## input is 5, output is true!!"
   ]
  },
  {
   "cell_type": "markdown",
   "id": "dde3eeb7-8915-4085-b230-1811573e895c",
   "metadata": {},
   "source": [
    "### Measuring Performance"
   ]
  },
  {
   "cell_type": "markdown",
   "id": "a98717bd-e557-4f58-87b0-c0097f6488e1",
   "metadata": {},
   "source": [
    "#### Accuracy"
   ]
  },
  {
   "cell_type": "code",
   "execution_count": 16,
   "id": "07b2c57e-4080-4a4e-ac7c-45f909ba3fd1",
   "metadata": {},
   "outputs": [
    {
     "data": {
      "text/plain": [
       "array([0.95035, 0.96035, 0.9604 ])"
      ]
     },
     "execution_count": 16,
     "metadata": {},
     "output_type": "execute_result"
    }
   ],
   "source": [
    "from sklearn.model_selection import cross_val_score\n",
    "cross_val_score(sgd_clf, X_train, y_train_5, cv = 3, scoring = \"accuracy\")"
   ]
  },
  {
   "cell_type": "markdown",
   "id": "fb993917-7c76-43c7-94d3-b26de92bd5a1",
   "metadata": {},
   "source": [
    "The issue with using accuracy with classification is we need to compare it to a baseline. With our data, the classification is naturally skewed, as 90% of the data is not the digit 5. So a score greater than 90% is only a marginal increase.\n",
    "\n",
    "It is usually better to consider more than one metric, like precision and recall. Precision is how many times do we say the image is 5 correctly vs all the times we said it - i.e \n",
    "\n",
    "- TP / (TP + FP) - where FP is all the times we said 5 but it wasn't a real 5.\n",
    "\n",
    "We could artifially get perfect precision if we only guessed a single image as 5 - but we would need to be correct. This overlooks how images of the digit 5 we have missed. Recall is how well we captured all the number 5 in our data - i.e\n",
    "\n",
    "- TP / (TP + FN) - where FN is all the times we said a digit wasn't a 5 but when it actually was. "
   ]
  },
  {
   "cell_type": "markdown",
   "id": "a08bffbb-5558-4c62-9e3e-b44077b06223",
   "metadata": {},
   "source": [
    "#### Confusion Matrix"
   ]
  },
  {
   "cell_type": "markdown",
   "id": "48ea1f56-cd65-4a7b-8239-995eeabc91cf",
   "metadata": {},
   "source": [
    "First, we need to make predictions before we generate the confusion matrix, as we need to compare what the model *\"thinks\"* compared to the genuine label. This can give us the four pieces of information we need: the number of **False Positives**, **False Negatives**, **True Positives** and **True Negatives**. \n",
    "\n",
    "\n",
    "|   |REAL|FAKE|\n",
    "|---|----|----|\n",
    "|POS| TP | FP |\n",
    "|NEG| FN | TN |\n"
   ]
  },
  {
   "cell_type": "code",
   "execution_count": 17,
   "id": "d2c6968b-ae7d-446f-8db7-dc03088c8c8b",
   "metadata": {},
   "outputs": [
    {
     "data": {
      "text/plain": [
       "array([ True, False, False, ...,  True, False, False])"
      ]
     },
     "execution_count": 17,
     "metadata": {},
     "output_type": "execute_result"
    }
   ],
   "source": [
    "from sklearn.model_selection import cross_val_predict\n",
    "\n",
    "y_train_pred = cross_val_predict(sgd_clf, X_train, y_train_5, cv = 3)\n",
    "y_train_pred"
   ]
  },
  {
   "cell_type": "code",
   "execution_count": 18,
   "id": "9bbc3e2f-c3b3-44e4-915a-d0ff5be6cfe8",
   "metadata": {},
   "outputs": [
    {
     "data": {
      "text/plain": [
       "array([[53892,   687],\n",
       "       [ 1891,  3530]], dtype=int64)"
      ]
     },
     "execution_count": 18,
     "metadata": {},
     "output_type": "execute_result"
    }
   ],
   "source": [
    "from sklearn.metrics import confusion_matrix\n",
    "\n",
    "confusion_matrix(y_train_5, y_train_pred) ## 53,892 TN and 3530 TP but 1,891 False Positives (false alarms) and 687 False Negatives (misses)"
   ]
  },
  {
   "cell_type": "code",
   "execution_count": 19,
   "id": "fdf9e953-afc9-4c17-ab9b-30535648f876",
   "metadata": {},
   "outputs": [
    {
     "name": "stdout",
     "output_type": "stream",
     "text": [
      "Precision of the Model is: 0.837%\n",
      "Recall of the Model is: 0.651%\n"
     ]
    }
   ],
   "source": [
    "print(f\"Precision of the Model is: {(3530 / (3530 + 687)):.3f}%\")\n",
    "print(f\"Recall of the Model is: {(3530 / (3530 + 1891)):.3f}%\")"
   ]
  },
  {
   "cell_type": "code",
   "execution_count": 20,
   "id": "91f1d172-a6a6-4d36-b16a-9e83d6b83533",
   "metadata": {},
   "outputs": [
    {
     "data": {
      "text/plain": [
       "0.8370879772350012"
      ]
     },
     "execution_count": 20,
     "metadata": {},
     "output_type": "execute_result"
    }
   ],
   "source": [
    "## we can import from sklearn so we don't need to do this manually, but look how they return the same results.\n",
    "from sklearn.metrics import precision_score, recall_score\n",
    "precision_score(y_train_5, y_train_pred)"
   ]
  },
  {
   "cell_type": "code",
   "execution_count": 21,
   "id": "98d6abfa-1eaf-4a12-bc94-4f4eac980bb8",
   "metadata": {},
   "outputs": [
    {
     "data": {
      "text/plain": [
       "0.6511713705958311"
      ]
     },
     "execution_count": 21,
     "metadata": {},
     "output_type": "execute_result"
    }
   ],
   "source": [
    "recall_score(y_train_5, y_train_pred)"
   ]
  },
  {
   "cell_type": "markdown",
   "id": "026cd4b6-09ec-474a-9b71-94fb7ff99261",
   "metadata": {},
   "source": [
    "#### F1 Score"
   ]
  },
  {
   "cell_type": "markdown",
   "id": "c249583c-cc87-46f7-a586-49533cec7c4a",
   "metadata": {},
   "source": [
    "We can combine the two metrics into a ratio or a score. If we want to say that precision and recall are equally important to our problem, then we can use the harmonic mean of the two metrics:\n",
    "\n",
    "F1 = 2 x ( ( Precision x recall )/ ( Precision + Recall ) )\n",
    "\n",
    "It is important to note that in order to get a high F1 score, max is 1, we need to have high precision and recall - it is the combination of both this is important. "
   ]
  },
  {
   "cell_type": "code",
   "execution_count": 27,
   "id": "7abf146f-9668-4c06-8ce3-182c2c07f6e7",
   "metadata": {},
   "outputs": [
    {
     "data": {
      "text/plain": [
       "0.7325171197343847"
      ]
     },
     "execution_count": 27,
     "metadata": {},
     "output_type": "execute_result"
    }
   ],
   "source": [
    "from sklearn.metrics import f1_score\n",
    "f1_score(y_train_5, y_train_pred)"
   ]
  },
  {
   "cell_type": "markdown",
   "id": "f880c8b9-8859-4720-8f79-c5c0de39e12f",
   "metadata": {},
   "source": [
    "#### Precision/Recall Trade-off"
   ]
  },
  {
   "cell_type": "markdown",
   "id": "d0380c9f-959b-455d-816b-c50894a8766b",
   "metadata": {},
   "source": [
    "Under the hood, classification algorithms typically generate a score for each instance which is then compared to a threshold. If the value is above the threshold it is a positive class, else it is negative class. This score is generated from the **decision function** which can be accessed directly from `model.decision_function()`. "
   ]
  },
  {
   "cell_type": "code",
   "execution_count": 28,
   "id": "bd63c495-47cc-4788-885b-8bdf10a4cbf9",
   "metadata": {},
   "outputs": [
    {
     "data": {
      "text/plain": [
       "array([ True])"
      ]
     },
     "execution_count": 28,
     "metadata": {},
     "output_type": "execute_result"
    }
   ],
   "source": [
    "y_scores= sgd_clf.decision_function([some_digit])\n",
    "y_scores ## array([2164.220...])\n",
    "# sgd_clf.predict([some_digit]) ## TRUE\n",
    "y_scores > 0 ## TRUE"
   ]
  },
  {
   "cell_type": "code",
   "execution_count": 29,
   "id": "477eda9b-e86d-4b3b-a7e1-852b7fc743c8",
   "metadata": {},
   "outputs": [],
   "source": [
    "y_scores = cross_val_predict(sgd_clf, X_train, y_train_5, cv = 3, method = \"decision_function\")"
   ]
  },
  {
   "cell_type": "code",
   "execution_count": 30,
   "id": "8f4c0b16-e774-485e-9cdf-68b47123b15b",
   "metadata": {},
   "outputs": [
    {
     "data": {
      "text/plain": [
       "array([  1200.93051237, -26883.79202424, -33072.03475406, ...,\n",
       "        13272.12718981,  -7258.47203373, -16877.50840447])"
      ]
     },
     "execution_count": 30,
     "metadata": {},
     "output_type": "execute_result"
    }
   ],
   "source": [
    "y_scores.shape ## (60000, )\n",
    "y_scores"
   ]
  },
  {
   "cell_type": "code",
   "execution_count": 31,
   "id": "a186e462-713e-4548-a19f-aad6fad71935",
   "metadata": {},
   "outputs": [],
   "source": [
    "from sklearn.metrics import precision_recall_curve\n",
    "\n",
    "precision, recall, threshold = precision_recall_curve(y_train_5, y_scores)"
   ]
  },
  {
   "cell_type": "code",
   "execution_count": 32,
   "id": "c5d79cb2-feda-40b1-a406-f37ef1d968ab",
   "metadata": {},
   "outputs": [
    {
     "data": {
      "text/plain": [
       "(-50000.0, 50000.0, 0.0, 1.0)"
      ]
     },
     "execution_count": 32,
     "metadata": {},
     "output_type": "execute_result"
    },
    {
     "data": {
      "image/png": "[encoded data removed]",
      "text/plain": [
       "<Figure size 800x400 with 1 Axes>"
      ]
     },
     "metadata": {},
     "output_type": "display_data"
    }
   ],
   "source": [
    "plt.figure(figsize=(8, 4)) \n",
    "plt.plot(threshold, precision[:-1], \"b--\", label = \"Precision\")\n",
    "plt.plot(threshold, recall[:-1], \"g-\", label = \"Precision\")\n",
    "plt.xlabel(\"Threshold\", fontsize=16)\n",
    "plt.ylabel(\"Score\", fontsize=16)\n",
    "plt.legend(loc=\"center right\", fontsize=16)\n",
    "plt.title(\"Decision Function Threshold\")\n",
    "plt.axis([-50000, 50000, 0, 1]) ## sets the limits of the plot"
   ]
  },
  {
   "cell_type": "markdown",
   "id": "ba49fda6-cd1e-4757-bd90-0d9f5ad520f4",
   "metadata": {},
   "source": [
    "Here the trade-off is very clear, when the threshold (shown on the X axis) increases, the recall decrease - as less images are being scored as the positive class, which inflates the false negatives. Conversely, the precision increases because we have fewer false positives, again due to the decrease in the images being scored as the positive class. \n",
    "\n",
    "We can use this graph to estimate what threshold we would need to obtain a certain precision or recall, let's say a precision of 90%. It would be more accurate to obtain this using code or maths instead of graphically. "
   ]
  },
  {
   "cell_type": "code",
   "execution_count": 33,
   "id": "c0414408-6360-4e72-9a2b-0e4c17fb01f6",
   "metadata": {},
   "outputs": [
    {
     "data": {
      "text/plain": [
       "3370.0194991439557"
      ]
     },
     "execution_count": 33,
     "metadata": {},
     "output_type": "execute_result"
    }
   ],
   "source": [
    "ind = np.argmax(precision >= .9)\n",
    "threshold_90 = threshold[ind]\n",
    "recall_90 = recall[ind]\n",
    "# precision >= .9 returns a vector of True and False values. \n",
    "# np.argmax(precision >= .9) returns the index of the first TRUE value, as FALSE is being treated as zero. \n",
    "threshold_90 ## ~ 3370.01"
   ]
  },
  {
   "cell_type": "code",
   "execution_count": 34,
   "id": "92b9e1d2-af41-46d9-9364-cea5d09c27e1",
   "metadata": {},
   "outputs": [
    {
     "data": {
      "text/plain": [
       "0.4799852425751706"
      ]
     },
     "execution_count": 34,
     "metadata": {},
     "output_type": "execute_result"
    }
   ],
   "source": [
    "## Let's just verify the recall and precision to make sure we do have a precision of 90%\n",
    "y_train_pred_90 = (y_scores >= threshold_90)\n",
    "precision_score(y_train_5, y_train_pred_90) ## 90.00346%\n",
    "recall_score(y_train_5, y_train_pred_90) ## 47.99852%"
   ]
  },
  {
   "cell_type": "code",
   "execution_count": 35,
   "id": "b46ae3da-85cb-4b70-afdd-9c96de01516d",
   "metadata": {},
   "outputs": [
    {
     "data": {
      "text/plain": [
       "(0.0, 1.0, 0.0, 1.0)"
      ]
     },
     "execution_count": 35,
     "metadata": {},
     "output_type": "execute_result"
    },
    {
     "data": {
      "image/png": "[encoded data removed]",
      "text/plain": [
       "<Figure size 640x480 with 1 Axes>"
      ]
     },
     "metadata": {},
     "output_type": "display_data"
    }
   ],
   "source": [
    "plt.plot(recall, precision, linewidth = 2)\n",
    "plt.plot([0, recall_90], [0.9, 0.9], \"r:\")\n",
    "plt.plot([recall_90, recall_90], [0.0, 0.9], \"r:\")\n",
    "plt.xlabel(\"Recall\", fontsize=16)\n",
    "plt.ylabel(\"Precision\", fontsize=16)\n",
    "plt.title(\"Precision/Recall Trade-Off\")\n",
    "plt.axis([0, 1, 0, 1]) ## sets the limits of the plot"
   ]
  },
  {
   "cell_type": "markdown",
   "id": "b48ef470-a6cc-4c91-a2d1-8b86aa46c656",
   "metadata": {},
   "source": [
    "#### ROC Curve"
   ]
  },
  {
   "cell_type": "markdown",
   "id": "e853680d-ec4a-4c4f-974f-ca03c82b18b8",
   "metadata": {},
   "source": [
    "The **Reciever operating characteristic** curve is very similar to the precision/recall curve, but it shows the *true positive rate* (recall) against the *false positive rate*. The *FPR* is 1 - the *TNR*, which is sometimes called *specificity*. Therefore the ROC is the Sensitivity of the Model vs 1 - Specificity of the model. \n",
    "\n",
    "Note the *TNR* is TN / (TN + FP) - a ratio about all the negative instances, so FP is when the negative is marked as a positive."
   ]
  },
  {
   "cell_type": "code",
   "execution_count": 36,
   "id": "fc1acc96-873f-4028-8fee-bd1bfb639df4",
   "metadata": {},
   "outputs": [],
   "source": [
    "from sklearn.metrics import roc_curve\n",
    "fpr, tpr, thresholds = roc_curve(y_train_5, y_scores)"
   ]
  },
  {
   "cell_type": "code",
   "execution_count": 37,
   "id": "2cacb0d4-5bdf-4a69-b806-7b6af17b7f14",
   "metadata": {},
   "outputs": [
    {
     "data": {
      "text/plain": [
       "(0.0, 1.0, 0.0, 1.0)"
      ]
     },
     "execution_count": 37,
     "metadata": {},
     "output_type": "execute_result"
    },
    {
     "data": {
      "image/png": "[encoded data removed]",
      "text/plain": [
       "<Figure size 640x480 with 1 Axes>"
      ]
     },
     "metadata": {},
     "output_type": "display_data"
    }
   ],
   "source": [
    "plt.plot(fpr, tpr)\n",
    "plt.plot([0, 1], [0, 1], \"k--\")\n",
    "plt.xlabel('False Positive Rate (False-Alarm)', fontsize=16)\n",
    "plt.ylabel('True Positive Rate (Recall)', fontsize=16)\n",
    "plt.axis([0, 1, 0, 1])"
   ]
  },
  {
   "cell_type": "markdown",
   "id": "df1cc170-d38d-437d-8079-3ab0d553d709",
   "metadata": {},
   "source": [
    "#### AUC "
   ]
  },
  {
   "cell_type": "code",
   "execution_count": 38,
   "id": "89aeb17f-0592-4963-8f7e-895a1a4ff2fb",
   "metadata": {},
   "outputs": [
    {
     "data": {
      "text/plain": [
       "0.9604938554008616"
      ]
     },
     "execution_count": 38,
     "metadata": {},
     "output_type": "execute_result"
    }
   ],
   "source": [
    "from sklearn.metrics import roc_auc_score\n",
    "roc_auc_score(y_train_5, y_scores)"
   ]
  },
  {
   "cell_type": "markdown",
   "id": "2c623c98-916f-4ebb-9bc5-447f6eceb290",
   "metadata": {},
   "source": [
    "Since the ROC Curve and Precision/Recall curve are generally quite similar, there is usually no need to do both. It is preferred to use the Precision/Recall curve when the positive is uncommon or when the false positive rate is more important than the false negative rate. The ROC may look very impressive, but the precision/recall curve illustrates the weakness in the models performance, as it is further away from the borders."
   ]
  },
  {
   "cell_type": "markdown",
   "id": "ae501ec5-588f-4d11-ad4f-553fc724b4dd",
   "metadata": {},
   "source": [
    "### Random Forest "
   ]
  },
  {
   "cell_type": "code",
   "execution_count": 39,
   "id": "7cf36fcb-434f-4fef-bf1d-27594c73279c",
   "metadata": {},
   "outputs": [],
   "source": [
    "from sklearn.ensemble import RandomForestClassifier\n",
    "\n",
    "forest_clf = RandomForestClassifier(random_state = 5)\n",
    "\n",
    "## RandomForest does not have a decision_function() method, so we use the predict_proba() one instead -\n",
    "## this gives us the instance the instance belongs to the positive class. \n",
    "## Returns one row per instance, and one colomn per class\n",
    "y_proba_forest = cross_val_predict(forest_clf, X_train, y_train_5, cv = 3, method = \"predict_proba\")"
   ]
  },
  {
   "cell_type": "code",
   "execution_count": 40,
   "id": "10d87f3e-f15d-44f4-8db5-ccc4388e21e3",
   "metadata": {},
   "outputs": [
    {
     "data": {
      "text/plain": [
       "array([0.1, 0.9])"
      ]
     },
     "execution_count": 40,
     "metadata": {},
     "output_type": "execute_result"
    }
   ],
   "source": [
    "y_proba_forest.shape ## 60,000 instances, and 2 classes!!\n",
    "y_proba_forest[0]  ## 10% not a 5, 90% it is a five (it is a 5)"
   ]
  },
  {
   "cell_type": "markdown",
   "id": "65b08cf7-0a64-490a-a2d7-d27675c69bdc",
   "metadata": {},
   "source": [
    "To draw the ROC curve, we need the false positive and true positive rate, which is calculated from the model making a decision, but we do not have the decision function to give us a score. We can use the positive class probability in it's place - as the highest probability for each instance is used to classify it. "
   ]
  },
  {
   "cell_type": "code",
   "execution_count": 42,
   "id": "3a602f6c-b9b6-4f26-aaef-48a93069aed0",
   "metadata": {},
   "outputs": [],
   "source": [
    "forest_y_scores = y_proba_forest[:, 1]\n",
    "\n",
    "forest_fpr, forest_tpr, forest_threshold  = roc_curve(y_train_5, forest_y_scores)"
   ]
  },
  {
   "cell_type": "code",
   "execution_count": 43,
   "id": "fa734c9c-496b-4629-8783-f75dffcb6c22",
   "metadata": {},
   "outputs": [
    {
     "data": {
      "image/png": "[encoded data removed]",
      "text/plain": [
       "<Figure size 640x480 with 1 Axes>"
      ]
     },
     "metadata": {},
     "output_type": "display_data"
    }
   ],
   "source": [
    "plt.plot(forest_fpr, forest_tpr, \"b:\", label = \"RandomForest\")\n",
    "plt.plot(fpr, tpr, label = \"SGD\")\n",
    "plt.legend(loc = \"lower right\")\n",
    "plt.plot([0, 1], [0, 1], \"k--\")\n",
    "plt.xlabel('False Positive Rate (False-Alarm)', fontsize=16)\n",
    "plt.ylabel('True Positive Rate (Recall)', fontsize=16)\n",
    "plt.axis([0, 1, 0, 1])\n",
    "plt.show()"
   ]
  },
  {
   "cell_type": "markdown",
   "id": "3032434c-2871-4679-a8ff-464cec6a6850",
   "metadata": {},
   "source": [
    "#### ROC AUC Score"
   ]
  },
  {
   "cell_type": "code",
   "execution_count": 44,
   "id": "2f77258b-9116-44a3-8876-b8caa33920fc",
   "metadata": {},
   "outputs": [
    {
     "data": {
      "text/plain": [
       "0.9983655237419137"
      ]
     },
     "execution_count": 44,
     "metadata": {},
     "output_type": "execute_result"
    }
   ],
   "source": [
    "roc_auc_score(y_train_5, forest_y_scores)"
   ]
  },
  {
   "cell_type": "markdown",
   "id": "bb28da2c-f3ba-46e9-a32f-1d2f02b08966",
   "metadata": {},
   "source": [
    "#### Precision"
   ]
  },
  {
   "cell_type": "code",
   "execution_count": 45,
   "id": "f9b080ca-f787-4a8d-84ce-e5151cde51e4",
   "metadata": {},
   "outputs": [
    {
     "data": {
      "text/plain": [
       "0.988686360779384"
      ]
     },
     "execution_count": 45,
     "metadata": {},
     "output_type": "execute_result"
    }
   ],
   "source": [
    "forest_y_scores_5 = forest_y_scores > .5\n",
    "\n",
    "precision_score(y_train_5, forest_y_scores_5)"
   ]
  },
  {
   "cell_type": "markdown",
   "id": "8a9c100c-2444-4537-9812-05e2daa19b43",
   "metadata": {},
   "source": [
    "#### Recall"
   ]
  },
  {
   "cell_type": "code",
   "execution_count": 46,
   "id": "914f8e7f-489d-48d5-a490-fb7446ebb8cf",
   "metadata": {},
   "outputs": [
    {
     "data": {
      "text/plain": [
       "0.8705035971223022"
      ]
     },
     "execution_count": 46,
     "metadata": {},
     "output_type": "execute_result"
    }
   ],
   "source": [
    "recall_score(y_train_5, forest_y_scores_5)"
   ]
  },
  {
   "cell_type": "markdown",
   "id": "f4a170b7-51ce-49e0-8a10-ba7a2a754f4c",
   "metadata": {},
   "source": [
    "## Testing how to parse the cv_results_ when scoring = None"
   ]
  },
  {
   "cell_type": "code",
   "execution_count": 59,
   "id": "2a49fe80-b5e4-414f-bc7c-67aefc63cb5d",
   "metadata": {},
   "outputs": [],
   "source": [
    "from sklearn.model_selection import cross_validate, GridSearchCV"
   ]
  },
  {
   "cell_type": "code",
   "execution_count": null,
   "id": "22cb54d4-dbe0-4125-911c-bc2c59995ea7",
   "metadata": {},
   "outputs": [],
   "source": [
    "cv = cross_validate(\n",
    "    estimator = forest_clf, \n",
    "    X =  X_train, \n",
    "    y = y_train_5, \n",
    "    cv = 2, \n",
    "    scoring = {\"acc\" : \"accuracy\", \"none\" : None}, \n",
    "    n_jobs = -2\n",
    ")"
   ]
  },
  {
   "cell_type": "code",
   "execution_count": 58,
   "id": "5c018d8a-e348-4ac3-b604-f5bda48605c1",
   "metadata": {},
   "outputs": [
    {
     "data": {
      "text/plain": [
       "dict_items([('fit_time', array([9.6507709 , 9.22605896])), ('score_time', array([0.76499557, 0.75463891])), ('test_acc', array([0.98693333, 0.98566667])), ('test_none', array([0.98693333, 0.98566667]))])"
      ]
     },
     "execution_count": 58,
     "metadata": {},
     "output_type": "execute_result"
    }
   ],
   "source": [
    "cv.items()"
   ]
  },
  {
   "cell_type": "code",
   "execution_count": 76,
   "id": "e9605544-68da-49b4-ad80-cc5efda71814",
   "metadata": {},
   "outputs": [
    {
     "data": {
      "text/html": [
       "<style>#sk-container-id-7 {\n",
       "  /* Definition of color scheme common for light and dark mode */\n",
       "  --sklearn-color-text: black;\n",
       "  --sklearn-color-line: gray;\n",
       "  /* Definition of color scheme for unfitted estimators */\n",
       "  --sklearn-color-unfitted-level-0: #fff5e6;\n",
       "  --sklearn-color-unfitted-level-1: #f6e4d2;\n",
       "  --sklearn-color-unfitted-level-2: #ffe0b3;\n",
       "  --sklearn-color-unfitted-level-3: chocolate;\n",
       "  /* Definition of color scheme for fitted estimators */\n",
       "  --sklearn-color-fitted-level-0: #f0f8ff;\n",
       "  --sklearn-color-fitted-level-1: #d4ebff;\n",
       "  --sklearn-color-fitted-level-2: #b3dbfd;\n",
       "  --sklearn-color-fitted-level-3: cornflowerblue;\n",
       "\n",
       "  /* Specific color for light theme */\n",
       "  --sklearn-color-text-on-default-background: var(--sg-text-color, var(--theme-code-foreground, var(--jp-content-font-color1, black)));\n",
       "  --sklearn-color-background: var(--sg-background-color, var(--theme-background, var(--jp-layout-color0, white)));\n",
       "  --sklearn-color-border-box: var(--sg-text-color, var(--theme-code-foreground, var(--jp-content-font-color1, black)));\n",
       "  --sklearn-color-icon: #696969;\n",
       "\n",
       "  @media (prefers-color-scheme: dark) {\n",
       "    /* Redefinition of color scheme for dark theme */\n",
       "    --sklearn-color-text-on-default-background: var(--sg-text-color, var(--theme-code-foreground, var(--jp-content-font-color1, white)));\n",
       "    --sklearn-color-background: var(--sg-background-color, var(--theme-background, var(--jp-layout-color0, #111)));\n",
       "    --sklearn-color-border-box: var(--sg-text-color, var(--theme-code-foreground, var(--jp-content-font-color1, white)));\n",
       "    --sklearn-color-icon: #878787;\n",
       "  }\n",
       "}\n",
       "\n",
       "#sk-container-id-7 {\n",
       "  color: var(--sklearn-color-text);\n",
       "}\n",
       "\n",
       "#sk-container-id-7 pre {\n",
       "  padding: 0;\n",
       "}\n",
       "\n",
       "#sk-container-id-7 input.sk-hidden--visually {\n",
       "  border: 0;\n",
       "  clip: rect(1px 1px 1px 1px);\n",
       "  clip: rect(1px, 1px, 1px, 1px);\n",
       "  height: 1px;\n",
       "  margin: -1px;\n",
       "  overflow: hidden;\n",
       "  padding: 0;\n",
       "  position: absolute;\n",
       "  width: 1px;\n",
       "}\n",
       "\n",
       "#sk-container-id-7 div.sk-dashed-wrapped {\n",
       "  border: 1px dashed var(--sklearn-color-line);\n",
       "  margin: 0 0.4em 0.5em 0.4em;\n",
       "  box-sizing: border-box;\n",
       "  padding-bottom: 0.4em;\n",
       "  background-color: var(--sklearn-color-background);\n",
       "}\n",
       "\n",
       "#sk-container-id-7 div.sk-container {\n",
       "  /* jupyter's `normalize.less` sets `[hidden] { display: none; }`\n",
       "     but bootstrap.min.css set `[hidden] { display: none !important; }`\n",
       "     so we also need the `!important` here to be able to override the\n",
       "     default hidden behavior on the sphinx rendered scikit-learn.org.\n",
       "     See: https://github.com/scikit-learn/scikit-learn/issues/21755 */\n",
       "  display: inline-block !important;\n",
       "  position: relative;\n",
       "}\n",
       "\n",
       "#sk-container-id-7 div.sk-text-repr-fallback {\n",
       "  display: none;\n",
       "}\n",
       "\n",
       "div.sk-parallel-item,\n",
       "div.sk-serial,\n",
       "div.sk-item {\n",
       "  /* draw centered vertical line to link estimators */\n",
       "  background-image: linear-gradient(var(--sklearn-color-text-on-default-background), var(--sklearn-color-text-on-default-background));\n",
       "  background-size: 2px 100%;\n",
       "  background-repeat: no-repeat;\n",
       "  background-position: center center;\n",
       "}\n",
       "\n",
       "/* Parallel-specific style estimator block */\n",
       "\n",
       "#sk-container-id-7 div.sk-parallel-item::after {\n",
       "  content: \"\";\n",
       "  width: 100%;\n",
       "  border-bottom: 2px solid var(--sklearn-color-text-on-default-background);\n",
       "  flex-grow: 1;\n",
       "}\n",
       "\n",
       "#sk-container-id-7 div.sk-parallel {\n",
       "  display: flex;\n",
       "  align-items: stretch;\n",
       "  justify-content: center;\n",
       "  background-color: var(--sklearn-color-background);\n",
       "  position: relative;\n",
       "}\n",
       "\n",
       "#sk-container-id-7 div.sk-parallel-item {\n",
       "  display: flex;\n",
       "  flex-direction: column;\n",
       "}\n",
       "\n",
       "#sk-container-id-7 div.sk-parallel-item:first-child::after {\n",
       "  align-self: flex-end;\n",
       "  width: 50%;\n",
       "}\n",
       "\n",
       "#sk-container-id-7 div.sk-parallel-item:last-child::after {\n",
       "  align-self: flex-start;\n",
       "  width: 50%;\n",
       "}\n",
       "\n",
       "#sk-container-id-7 div.sk-parallel-item:only-child::after {\n",
       "  width: 0;\n",
       "}\n",
       "\n",
       "/* Serial-specific style estimator block */\n",
       "\n",
       "#sk-container-id-7 div.sk-serial {\n",
       "  display: flex;\n",
       "  flex-direction: column;\n",
       "  align-items: center;\n",
       "  background-color: var(--sklearn-color-background);\n",
       "  padding-right: 1em;\n",
       "  padding-left: 1em;\n",
       "}\n",
       "\n",
       "\n",
       "/* Toggleable style: style used for estimator/Pipeline/ColumnTransformer box that is\n",
       "clickable and can be expanded/collapsed.\n",
       "- Pipeline and ColumnTransformer use this feature and define the default style\n",
       "- Estimators will overwrite some part of the style using the `sk-estimator` class\n",
       "*/\n",
       "\n",
       "/* Pipeline and ColumnTransformer style (default) */\n",
       "\n",
       "#sk-container-id-7 div.sk-toggleable {\n",
       "  /* Default theme specific background. It is overwritten whether we have a\n",
       "  specific estimator or a Pipeline/ColumnTransformer */\n",
       "  background-color: var(--sklearn-color-background);\n",
       "}\n",
       "\n",
       "/* Toggleable label */\n",
       "#sk-container-id-7 label.sk-toggleable__label {\n",
       "  cursor: pointer;\n",
       "  display: block;\n",
       "  width: 100%;\n",
       "  margin-bottom: 0;\n",
       "  padding: 0.5em;\n",
       "  box-sizing: border-box;\n",
       "  text-align: center;\n",
       "}\n",
       "\n",
       "#sk-container-id-7 label.sk-toggleable__label-arrow:before {\n",
       "  /* Arrow on the left of the label */\n",
       "  content: \"▸\";\n",
       "  float: left;\n",
       "  margin-right: 0.25em;\n",
       "  color: var(--sklearn-color-icon);\n",
       "}\n",
       "\n",
       "#sk-container-id-7 label.sk-toggleable__label-arrow:hover:before {\n",
       "  color: var(--sklearn-color-text);\n",
       "}\n",
       "\n",
       "/* Toggleable content - dropdown */\n",
       "\n",
       "#sk-container-id-7 div.sk-toggleable__content {\n",
       "  max-height: 0;\n",
       "  max-width: 0;\n",
       "  overflow: hidden;\n",
       "  text-align: left;\n",
       "  /* unfitted */\n",
       "  background-color: var(--sklearn-color-unfitted-level-0);\n",
       "}\n",
       "\n",
       "#sk-container-id-7 div.sk-toggleable__content.fitted {\n",
       "  /* fitted */\n",
       "  background-color: var(--sklearn-color-fitted-level-0);\n",
       "}\n",
       "\n",
       "#sk-container-id-7 div.sk-toggleable__content pre {\n",
       "  margin: 0.2em;\n",
       "  border-radius: 0.25em;\n",
       "  color: var(--sklearn-color-text);\n",
       "  /* unfitted */\n",
       "  background-color: var(--sklearn-color-unfitted-level-0);\n",
       "}\n",
       "\n",
       "#sk-container-id-7 div.sk-toggleable__content.fitted pre {\n",
       "  /* unfitted */\n",
       "  background-color: var(--sklearn-color-fitted-level-0);\n",
       "}\n",
       "\n",
       "#sk-container-id-7 input.sk-toggleable__control:checked~div.sk-toggleable__content {\n",
       "  /* Expand drop-down */\n",
       "  max-height: 200px;\n",
       "  max-width: 100%;\n",
       "  overflow: auto;\n",
       "}\n",
       "\n",
       "#sk-container-id-7 input.sk-toggleable__control:checked~label.sk-toggleable__label-arrow:before {\n",
       "  content: \"▾\";\n",
       "}\n",
       "\n",
       "/* Pipeline/ColumnTransformer-specific style */\n",
       "\n",
       "#sk-container-id-7 div.sk-label input.sk-toggleable__control:checked~label.sk-toggleable__label {\n",
       "  color: var(--sklearn-color-text);\n",
       "  background-color: var(--sklearn-color-unfitted-level-2);\n",
       "}\n",
       "\n",
       "#sk-container-id-7 div.sk-label.fitted input.sk-toggleable__control:checked~label.sk-toggleable__label {\n",
       "  background-color: var(--sklearn-color-fitted-level-2);\n",
       "}\n",
       "\n",
       "/* Estimator-specific style */\n",
       "\n",
       "/* Colorize estimator box */\n",
       "#sk-container-id-7 div.sk-estimator input.sk-toggleable__control:checked~label.sk-toggleable__label {\n",
       "  /* unfitted */\n",
       "  background-color: var(--sklearn-color-unfitted-level-2);\n",
       "}\n",
       "\n",
       "#sk-container-id-7 div.sk-estimator.fitted input.sk-toggleable__control:checked~label.sk-toggleable__label {\n",
       "  /* fitted */\n",
       "  background-color: var(--sklearn-color-fitted-level-2);\n",
       "}\n",
       "\n",
       "#sk-container-id-7 div.sk-label label.sk-toggleable__label,\n",
       "#sk-container-id-7 div.sk-label label {\n",
       "  /* The background is the default theme color */\n",
       "  color: var(--sklearn-color-text-on-default-background);\n",
       "}\n",
       "\n",
       "/* On hover, darken the color of the background */\n",
       "#sk-container-id-7 div.sk-label:hover label.sk-toggleable__label {\n",
       "  color: var(--sklearn-color-text);\n",
       "  background-color: var(--sklearn-color-unfitted-level-2);\n",
       "}\n",
       "\n",
       "/* Label box, darken color on hover, fitted */\n",
       "#sk-container-id-7 div.sk-label.fitted:hover label.sk-toggleable__label.fitted {\n",
       "  color: var(--sklearn-color-text);\n",
       "  background-color: var(--sklearn-color-fitted-level-2);\n",
       "}\n",
       "\n",
       "/* Estimator label */\n",
       "\n",
       "#sk-container-id-7 div.sk-label label {\n",
       "  font-family: monospace;\n",
       "  font-weight: bold;\n",
       "  display: inline-block;\n",
       "  line-height: 1.2em;\n",
       "}\n",
       "\n",
       "#sk-container-id-7 div.sk-label-container {\n",
       "  text-align: center;\n",
       "}\n",
       "\n",
       "/* Estimator-specific */\n",
       "#sk-container-id-7 div.sk-estimator {\n",
       "  font-family: monospace;\n",
       "  border: 1px dotted var(--sklearn-color-border-box);\n",
       "  border-radius: 0.25em;\n",
       "  box-sizing: border-box;\n",
       "  margin-bottom: 0.5em;\n",
       "  /* unfitted */\n",
       "  background-color: var(--sklearn-color-unfitted-level-0);\n",
       "}\n",
       "\n",
       "#sk-container-id-7 div.sk-estimator.fitted {\n",
       "  /* fitted */\n",
       "  background-color: var(--sklearn-color-fitted-level-0);\n",
       "}\n",
       "\n",
       "/* on hover */\n",
       "#sk-container-id-7 div.sk-estimator:hover {\n",
       "  /* unfitted */\n",
       "  background-color: var(--sklearn-color-unfitted-level-2);\n",
       "}\n",
       "\n",
       "#sk-container-id-7 div.sk-estimator.fitted:hover {\n",
       "  /* fitted */\n",
       "  background-color: var(--sklearn-color-fitted-level-2);\n",
       "}\n",
       "\n",
       "/* Specification for estimator info (e.g. \"i\" and \"?\") */\n",
       "\n",
       "/* Common style for \"i\" and \"?\" */\n",
       "\n",
       ".sk-estimator-doc-link,\n",
       "a:link.sk-estimator-doc-link,\n",
       "a:visited.sk-estimator-doc-link {\n",
       "  float: right;\n",
       "  font-size: smaller;\n",
       "  line-height: 1em;\n",
       "  font-family: monospace;\n",
       "  background-color: var(--sklearn-color-background);\n",
       "  border-radius: 1em;\n",
       "  height: 1em;\n",
       "  width: 1em;\n",
       "  text-decoration: none !important;\n",
       "  margin-left: 1ex;\n",
       "  /* unfitted */\n",
       "  border: var(--sklearn-color-unfitted-level-1) 1pt solid;\n",
       "  color: var(--sklearn-color-unfitted-level-1);\n",
       "}\n",
       "\n",
       ".sk-estimator-doc-link.fitted,\n",
       "a:link.sk-estimator-doc-link.fitted,\n",
       "a:visited.sk-estimator-doc-link.fitted {\n",
       "  /* fitted */\n",
       "  border: var(--sklearn-color-fitted-level-1) 1pt solid;\n",
       "  color: var(--sklearn-color-fitted-level-1);\n",
       "}\n",
       "\n",
       "/* On hover */\n",
       "div.sk-estimator:hover .sk-estimator-doc-link:hover,\n",
       ".sk-estimator-doc-link:hover,\n",
       "div.sk-label-container:hover .sk-estimator-doc-link:hover,\n",
       ".sk-estimator-doc-link:hover {\n",
       "  /* unfitted */\n",
       "  background-color: var(--sklearn-color-unfitted-level-3);\n",
       "  color: var(--sklearn-color-background);\n",
       "  text-decoration: none;\n",
       "}\n",
       "\n",
       "div.sk-estimator.fitted:hover .sk-estimator-doc-link.fitted:hover,\n",
       ".sk-estimator-doc-link.fitted:hover,\n",
       "div.sk-label-container:hover .sk-estimator-doc-link.fitted:hover,\n",
       ".sk-estimator-doc-link.fitted:hover {\n",
       "  /* fitted */\n",
       "  background-color: var(--sklearn-color-fitted-level-3);\n",
       "  color: var(--sklearn-color-background);\n",
       "  text-decoration: none;\n",
       "}\n",
       "\n",
       "/* Span, style for the box shown on hovering the info icon */\n",
       ".sk-estimator-doc-link span {\n",
       "  display: none;\n",
       "  z-index: 9999;\n",
       "  position: relative;\n",
       "  font-weight: normal;\n",
       "  right: .2ex;\n",
       "  padding: .5ex;\n",
       "  margin: .5ex;\n",
       "  width: min-content;\n",
       "  min-width: 20ex;\n",
       "  max-width: 50ex;\n",
       "  color: var(--sklearn-color-text);\n",
       "  box-shadow: 2pt 2pt 4pt #999;\n",
       "  /* unfitted */\n",
       "  background: var(--sklearn-color-unfitted-level-0);\n",
       "  border: .5pt solid var(--sklearn-color-unfitted-level-3);\n",
       "}\n",
       "\n",
       ".sk-estimator-doc-link.fitted span {\n",
       "  /* fitted */\n",
       "  background: var(--sklearn-color-fitted-level-0);\n",
       "  border: var(--sklearn-color-fitted-level-3);\n",
       "}\n",
       "\n",
       ".sk-estimator-doc-link:hover span {\n",
       "  display: block;\n",
       "}\n",
       "\n",
       "/* \"?\"-specific style due to the `<a>` HTML tag */\n",
       "\n",
       "#sk-container-id-7 a.estimator_doc_link {\n",
       "  float: right;\n",
       "  font-size: 1rem;\n",
       "  line-height: 1em;\n",
       "  font-family: monospace;\n",
       "  background-color: var(--sklearn-color-background);\n",
       "  border-radius: 1rem;\n",
       "  height: 1rem;\n",
       "  width: 1rem;\n",
       "  text-decoration: none;\n",
       "  /* unfitted */\n",
       "  color: var(--sklearn-color-unfitted-level-1);\n",
       "  border: var(--sklearn-color-unfitted-level-1) 1pt solid;\n",
       "}\n",
       "\n",
       "#sk-container-id-7 a.estimator_doc_link.fitted {\n",
       "  /* fitted */\n",
       "  border: var(--sklearn-color-fitted-level-1) 1pt solid;\n",
       "  color: var(--sklearn-color-fitted-level-1);\n",
       "}\n",
       "\n",
       "/* On hover */\n",
       "#sk-container-id-7 a.estimator_doc_link:hover {\n",
       "  /* unfitted */\n",
       "  background-color: var(--sklearn-color-unfitted-level-3);\n",
       "  color: var(--sklearn-color-background);\n",
       "  text-decoration: none;\n",
       "}\n",
       "\n",
       "#sk-container-id-7 a.estimator_doc_link.fitted:hover {\n",
       "  /* fitted */\n",
       "  background-color: var(--sklearn-color-fitted-level-3);\n",
       "}\n",
       "</style><div id=\"sk-container-id-7\" class=\"sk-top-container\"><div class=\"sk-text-repr-fallback\"><pre>RandomForestClassifier(random_state=5)</pre><b>In a Jupyter environment, please rerun this cell to show the HTML representation or trust the notebook. <br />On GitHub, the HTML representation is unable to render, please try loading this page with nbviewer.org.</b></div><div class=\"sk-container\" hidden><div class=\"sk-item\"><div class=\"sk-estimator fitted sk-toggleable\"><input class=\"sk-toggleable__control sk-hidden--visually\" id=\"sk-estimator-id-17\" type=\"checkbox\" checked><label for=\"sk-estimator-id-17\" class=\"sk-toggleable__label fitted sk-toggleable__label-arrow fitted\">&nbsp;&nbsp;RandomForestClassifier<a class=\"sk-estimator-doc-link fitted\" rel=\"noreferrer\" target=\"_blank\" href=\"https://scikit-learn.org/1.4/modules/generated/sklearn.ensemble.RandomForestClassifier.html\">?<span>Documentation for RandomForestClassifier</span></a><span class=\"sk-estimator-doc-link fitted\">i<span>Fitted</span></span></label><div class=\"sk-toggleable__content fitted\"><pre>RandomForestClassifier(random_state=5)</pre></div> </div></div></div></div>"
      ],
      "text/plain": [
       "RandomForestClassifier(random_state=5)"
      ]
     },
     "execution_count": 76,
     "metadata": {},
     "output_type": "execute_result"
    }
   ],
   "source": [
    "forest_clf.fit(X_train, y_train)"
   ]
  },
  {
   "cell_type": "code",
   "execution_count": 99,
   "id": "7212a424-61c0-4473-8d7e-5b92bc39395a",
   "metadata": {
    "scrolled": true
   },
   "outputs": [],
   "source": [
    "y_pred = forest_clf.predict(X_test)\n",
    "\n",
    "f1 = f1_score(y_test, y_pred, average = None, labels = range(0, 10))"
   ]
  },
  {
   "cell_type": "code",
   "execution_count": 300,
   "id": "97473285-6bd0-45f8-bc5d-2b6c63519568",
   "metadata": {},
   "outputs": [
    {
     "data": {
      "text/plain": [
       "array([[ 970,    0,    1,    0,    0,    1,    3,    1,    3,    1],\n",
       "       [   0, 1124,    2,    2,    1,    1,    2,    1,    2,    0],\n",
       "       [   7,    0,  996,    7,    3,    0,    4,    8,    7,    0],\n",
       "       [   1,    0,   10,  974,    0,    6,    0,    9,    8,    2],\n",
       "       [   1,    0,    1,    0,  952,    0,    4,    0,    4,   20],\n",
       "       [   2,    0,    0,   15,    2,  855,   10,    1,    5,    2],\n",
       "       [   8,    3,    1,    0,    2,    5,  935,    0,    4,    0],\n",
       "       [   2,    2,   21,    2,    1,    0,    0,  985,    4,   11],\n",
       "       [   4,    0,    7,    8,    4,    4,    4,    3,  930,   10],\n",
       "       [   6,    5,    1,   11,   16,    1,    1,    4,    8,  956]],\n",
       "      dtype=int64)"
      ]
     },
     "execution_count": 300,
     "metadata": {},
     "output_type": "execute_result"
    }
   ],
   "source": [
    "cm = confusion_matrix(y_test, y_pred, labels = [0, 1, 2, 3, 4, 5, 6, 7, 8, 9])\n",
    "\n",
    "cm"
   ]
  },
  {
   "cell_type": "code",
   "execution_count": 186,
   "id": "5a9fa445-28d3-404a-9f8b-ad14117c73bf",
   "metadata": {},
   "outputs": [
    {
     "name": "stdout",
     "output_type": "stream",
     "text": [
      "[ 970 1124  996  974  952  855  935  985  930  956] [31 10 44 45 29 18 28 27 45 46] [10 11 36 36 30 37 23 43 44 53] [8989 8855 8924 8945 8989 9090 9014 8945 8981 8945]\n"
     ]
    }
   ],
   "source": [
    "FP = cm.sum(axis=0) - np.diag(cm)  \n",
    "FN = cm.sum(axis=1) - np.diag(cm)\n",
    "TP = np.diag(cm)\n",
    "TN = cm.sum() - (FP + FN + TP)\n",
    "\n",
    "print(TP, FP, FN, TN)"
   ]
  },
  {
   "cell_type": "code",
   "execution_count": null,
   "id": "c55599ef-26d2-43db-8656-d11f6f1def73",
   "metadata": {},
   "outputs": [],
   "source": [
    "## i = row (true), j = column (predicted)\n",
    "## TP is when i == j\n",
    "tp = cm[0, 0] ## i, j\n",
    "\n",
    "## FP is when we get the sum of the column - and subtract TP\n",
    "fp = cm[:, 0].sum() - tp\n",
    "\n",
    "## FN is when we get the sum of the rom - and subtract the TP\n",
    "fn = cm[0, :].sum() - tp\n",
    "\n",
    "## TN is the sum of the entire matrix, minis the TP, FP and FN\n",
    "cm.sum() - (tp + fp + fn)\n",
    "\n",
    "## in form {class : values}\n",
    "## where values is in the form \n",
    "## {tp = tp, tn = tn, fp = fp, fn = fn}"
   ]
  },
  {
   "cell_type": "code",
   "execution_count": 270,
   "id": "d0937fb3-5053-4fbe-8b61-1cf03dac41ff",
   "metadata": {},
   "outputs": [],
   "source": [
    "def label_confusion_values(confusion_matrix, index):\n",
    "    cm = confusion_matrix\n",
    "    ## TP is when i == j\n",
    "    tp = cm[index, index] ## i, j\n",
    "    \n",
    "    ## FP is when we get the sum of the column - and subtract TP\n",
    "    fp = cm[:, index].sum() - tp\n",
    "    \n",
    "    ## FN is when we get the sum of the rom - and subtract the TP\n",
    "    fn = cm[index, :].sum() - tp\n",
    "    \n",
    "    ## TN is the sum of the entire matrix, minis the TP, FP and FN\n",
    "    tn = cm.sum() - (tp + fp + fn)\n",
    "\n",
    "    out = {\"tp\" : float(tp), \"fp\" : float(fp), \"tn\" : float(tn), \"fn\" : float(fn)}\n",
    "    \n",
    "    return out\n",
    "\n",
    "\n",
    "def confusionMatrix_scoring(y, y_pred):\n",
    "\n",
    "    cm = confusion_matrix(y, y_pred, labels = [0, 1, 2, 3, 4, 5, 6, 7, 8, 9])\n",
    "    \n",
    "    return {\"class_\" + str(i) : label_confusion_values(cm, i) for i in range(len(cm))}"
   ]
  },
  {
   "cell_type": "code",
   "execution_count": 313,
   "id": "beee462b-bf61-411a-a823-726680dd45d4",
   "metadata": {},
   "outputs": [
    {
     "name": "stdout",
     "output_type": "stream",
     "text": [
      "{'tp': array([ 970, 1124,  996,  974,  952,  855,  935,  985,  930,  956],\n",
      "      dtype=int64), 'fp': array([31, 10, 44, 45, 29, 18, 28, 27, 45, 46], dtype=int64), 'tn': array([8989, 8855, 8924, 8945, 8989, 9090, 9014, 8945, 8981, 8945],\n",
      "      dtype=int64), 'fn': array([10, 11, 36, 36, 30, 37, 23, 43, 44, 53], dtype=int64)}\n"
     ]
    },
    {
     "data": {
      "text/plain": [
       "970"
      ]
     },
     "execution_count": 313,
     "metadata": {},
     "output_type": "execute_result"
    }
   ],
   "source": [
    "\n",
    "\n",
    "def generate_extractor(metric, index):\n",
    "\n",
    "    def extract_class_metric(y, y_pred):\n",
    "\n",
    "        cm = confusion_matrix(y, y_pred, labels = [0, 1, 2, 3, 4, 5, 6, 7, 8, 9])\n",
    "\n",
    "        cm_dict = label_confusion_values_2(cm)\n",
    "        values = cm_dict[metric]\n",
    "        \n",
    "        return values[index]\n",
    "\n",
    "    return extract_class_metric\n",
    "\n",
    "def confusionMatrix_scoring_2(y, y_pred):\n",
    "   \n",
    "    cm = confusion_matrix(y, y_pred, labels = [0, 1, 2, 3, 4, 5, 6, 7, 8, 9])\n",
    "\n",
    "    cm_dict = label_confusion_values_2(cm)\n",
    "    \n",
    "    return out\n",
    "\n",
    "\n",
    "cm_dict = label_confusion_values_2(cm)\n",
    "\n",
    "print(cm_dict)\n",
    "\n",
    "get_c0_tp = generate_extractor(\"tp\", 0)\n",
    "get_c0_tp(y_test, y_pred)"
   ]
  },
  {
   "cell_type": "code",
   "execution_count": 314,
   "id": "a42afdb8-f302-423b-a910-8f643e03ac5b",
   "metadata": {},
   "outputs": [
    {
     "data": {
      "text/plain": [
       "{'tp_0': make_scorer(extract_class_metric, response_method='predict'),\n",
       " 'tp_1': make_scorer(extract_class_metric, response_method='predict'),\n",
       " 'tp_2': make_scorer(extract_class_metric, response_method='predict'),\n",
       " 'tp_3': make_scorer(extract_class_metric, response_method='predict'),\n",
       " 'tp_4': make_scorer(extract_class_metric, response_method='predict'),\n",
       " 'tp_5': make_scorer(extract_class_metric, response_method='predict'),\n",
       " 'tp_6': make_scorer(extract_class_metric, response_method='predict'),\n",
       " 'tp_7': make_scorer(extract_class_metric, response_method='predict'),\n",
       " 'tp_8': make_scorer(extract_class_metric, response_method='predict'),\n",
       " 'tp_9': make_scorer(extract_class_metric, response_method='predict'),\n",
       " 'fp_0': make_scorer(extract_class_metric, response_method='predict'),\n",
       " 'fp_1': make_scorer(extract_class_metric, response_method='predict'),\n",
       " 'fp_2': make_scorer(extract_class_metric, response_method='predict'),\n",
       " 'fp_3': make_scorer(extract_class_metric, response_method='predict'),\n",
       " 'fp_4': make_scorer(extract_class_metric, response_method='predict'),\n",
       " 'fp_5': make_scorer(extract_class_metric, response_method='predict'),\n",
       " 'fp_6': make_scorer(extract_class_metric, response_method='predict'),\n",
       " 'fp_7': make_scorer(extract_class_metric, response_method='predict'),\n",
       " 'fp_8': make_scorer(extract_class_metric, response_method='predict'),\n",
       " 'fp_9': make_scorer(extract_class_metric, response_method='predict'),\n",
       " 'tn_0': make_scorer(extract_class_metric, response_method='predict'),\n",
       " 'tn_1': make_scorer(extract_class_metric, response_method='predict'),\n",
       " 'tn_2': make_scorer(extract_class_metric, response_method='predict'),\n",
       " 'tn_3': make_scorer(extract_class_metric, response_method='predict'),\n",
       " 'tn_4': make_scorer(extract_class_metric, response_method='predict'),\n",
       " 'tn_5': make_scorer(extract_class_metric, response_method='predict'),\n",
       " 'tn_6': make_scorer(extract_class_metric, response_method='predict'),\n",
       " 'tn_7': make_scorer(extract_class_metric, response_method='predict'),\n",
       " 'tn_8': make_scorer(extract_class_metric, response_method='predict'),\n",
       " 'tn_9': make_scorer(extract_class_metric, response_method='predict'),\n",
       " 'fn_0': make_scorer(extract_class_metric, response_method='predict'),\n",
       " 'fn_1': make_scorer(extract_class_metric, response_method='predict'),\n",
       " 'fn_2': make_scorer(extract_class_metric, response_method='predict'),\n",
       " 'fn_3': make_scorer(extract_class_metric, response_method='predict'),\n",
       " 'fn_4': make_scorer(extract_class_metric, response_method='predict'),\n",
       " 'fn_5': make_scorer(extract_class_metric, response_method='predict'),\n",
       " 'fn_6': make_scorer(extract_class_metric, response_method='predict'),\n",
       " 'fn_7': make_scorer(extract_class_metric, response_method='predict'),\n",
       " 'fn_8': make_scorer(extract_class_metric, response_method='predict'),\n",
       " 'fn_9': make_scorer(extract_class_metric, response_method='predict')}"
      ]
     },
     "execution_count": 314,
     "metadata": {},
     "output_type": "execute_result"
    }
   ],
   "source": [
    "functions = {}\n",
    "\n",
    "for key in cm_dict.keys():\n",
    "    for label in range(0, 10):\n",
    "        k = str(key) + \"_\" + str(label)\n",
    "        functions[k] = make_scorer(generate_extractor(key, label), greater_is_better=True)\n",
    "\n",
    "functions"
   ]
  },
  {
   "cell_type": "code",
   "execution_count": 278,
   "id": "23823915-9852-4815-89a4-91e8e53486ed",
   "metadata": {
    "scrolled": true
   },
   "outputs": [],
   "source": [
    "# {\"class_\" + str(i) : label_confusion_values(cm, i) for i in range(len(cm))}"
   ]
  },
  {
   "cell_type": "code",
   "execution_count": 269,
   "id": "113e65ae-ebff-4b91-84b3-3580e2e15379",
   "metadata": {},
   "outputs": [
    {
     "data": {
      "text/plain": [
       "[array([ 970, 1124,  996,  974,  952,  855,  935,  985,  930,  956],\n",
       "       dtype=int64),\n",
       " array([31, 10, 44, 45, 29, 18, 28, 27, 45, 46], dtype=int64),\n",
       " array([8989, 8855, 8924, 8945, 8989, 9090, 9014, 8945, 8981, 8945],\n",
       "       dtype=int64),\n",
       " array([31, 10, 44, 45, 29, 18, 28, 27, 45, 46], dtype=int64)]"
      ]
     },
     "execution_count": 269,
     "metadata": {},
     "output_type": "execute_result"
    }
   ],
   "source": [
    "label_confusion_values_2(cm)"
   ]
  },
  {
   "cell_type": "code",
   "execution_count": null,
   "id": "b073c3cf-22e8-4e97-925b-b95ea6d6d3ca",
   "metadata": {},
   "outputs": [],
   "source": [
    "from sklearn.metrics import make_scorer\n"
   ]
  },
  {
   "cell_type": "code",
   "execution_count": 306,
   "id": "f64c61ca-9973-4b7c-bb70-04000983f640",
   "metadata": {},
   "outputs": [],
   "source": [
    "def label_confusion_values_2(confusion_matrix):\n",
    "    import numpy as np\n",
    "    cm = confusion_matrix\n",
    "    FP = cm.sum(axis=0) - np.diag(cm)  \n",
    "    FN = cm.sum(axis=1) - np.diag(cm)\n",
    "    TP = np.diag(cm)\n",
    "    TN = cm.sum() - (FP + FN + TP)\n",
    "\n",
    "    out = {\"tp\" : TP, \"fp\" : FP, \"tn\" : TN, \"fn\" : FN}\n",
    "    \n",
    "    return out\n",
    "\n",
    "def confusionMatrix_scoring_2(y, y_pred):\n",
    "   \n",
    "    cm = confusion_matrix(y, y_pred, labels = [0, 1, 2, 3, 4, 5, 6, 7, 8, 9])\n",
    "\n",
    "    out = label_confusion_values_2(cm)\n",
    "    \n",
    "    return out\n",
    "\n",
    "scorer = make_scorer(confusionMatrix_scoring_2, greater_is_better=True)"
   ]
  },
  {
   "cell_type": "code",
   "execution_count": 322,
   "id": "3b784996-5f1d-48b1-8e05-62667d19b684",
   "metadata": {},
   "outputs": [
    {
     "data": {
      "text/html": [
       "<style>#sk-container-id-36 {\n",
       "  /* Definition of color scheme common for light and dark mode */\n",
       "  --sklearn-color-text: black;\n",
       "  --sklearn-color-line: gray;\n",
       "  /* Definition of color scheme for unfitted estimators */\n",
       "  --sklearn-color-unfitted-level-0: #fff5e6;\n",
       "  --sklearn-color-unfitted-level-1: #f6e4d2;\n",
       "  --sklearn-color-unfitted-level-2: #ffe0b3;\n",
       "  --sklearn-color-unfitted-level-3: chocolate;\n",
       "  /* Definition of color scheme for fitted estimators */\n",
       "  --sklearn-color-fitted-level-0: #f0f8ff;\n",
       "  --sklearn-color-fitted-level-1: #d4ebff;\n",
       "  --sklearn-color-fitted-level-2: #b3dbfd;\n",
       "  --sklearn-color-fitted-level-3: cornflowerblue;\n",
       "\n",
       "  /* Specific color for light theme */\n",
       "  --sklearn-color-text-on-default-background: var(--sg-text-color, var(--theme-code-foreground, var(--jp-content-font-color1, black)));\n",
       "  --sklearn-color-background: var(--sg-background-color, var(--theme-background, var(--jp-layout-color0, white)));\n",
       "  --sklearn-color-border-box: var(--sg-text-color, var(--theme-code-foreground, var(--jp-content-font-color1, black)));\n",
       "  --sklearn-color-icon: #696969;\n",
       "\n",
       "  @media (prefers-color-scheme: dark) {\n",
       "    /* Redefinition of color scheme for dark theme */\n",
       "    --sklearn-color-text-on-default-background: var(--sg-text-color, var(--theme-code-foreground, var(--jp-content-font-color1, white)));\n",
       "    --sklearn-color-background: var(--sg-background-color, var(--theme-background, var(--jp-layout-color0, #111)));\n",
       "    --sklearn-color-border-box: var(--sg-text-color, var(--theme-code-foreground, var(--jp-content-font-color1, white)));\n",
       "    --sklearn-color-icon: #878787;\n",
       "  }\n",
       "}\n",
       "\n",
       "#sk-container-id-36 {\n",
       "  color: var(--sklearn-color-text);\n",
       "}\n",
       "\n",
       "#sk-container-id-36 pre {\n",
       "  padding: 0;\n",
       "}\n",
       "\n",
       "#sk-container-id-36 input.sk-hidden--visually {\n",
       "  border: 0;\n",
       "  clip: rect(1px 1px 1px 1px);\n",
       "  clip: rect(1px, 1px, 1px, 1px);\n",
       "  height: 1px;\n",
       "  margin: -1px;\n",
       "  overflow: hidden;\n",
       "  padding: 0;\n",
       "  position: absolute;\n",
       "  width: 1px;\n",
       "}\n",
       "\n",
       "#sk-container-id-36 div.sk-dashed-wrapped {\n",
       "  border: 1px dashed var(--sklearn-color-line);\n",
       "  margin: 0 0.4em 0.5em 0.4em;\n",
       "  box-sizing: border-box;\n",
       "  padding-bottom: 0.4em;\n",
       "  background-color: var(--sklearn-color-background);\n",
       "}\n",
       "\n",
       "#sk-container-id-36 div.sk-container {\n",
       "  /* jupyter's `normalize.less` sets `[hidden] { display: none; }`\n",
       "     but bootstrap.min.css set `[hidden] { display: none !important; }`\n",
       "     so we also need the `!important` here to be able to override the\n",
       "     default hidden behavior on the sphinx rendered scikit-learn.org.\n",
       "     See: https://github.com/scikit-learn/scikit-learn/issues/21755 */\n",
       "  display: inline-block !important;\n",
       "  position: relative;\n",
       "}\n",
       "\n",
       "#sk-container-id-36 div.sk-text-repr-fallback {\n",
       "  display: none;\n",
       "}\n",
       "\n",
       "div.sk-parallel-item,\n",
       "div.sk-serial,\n",
       "div.sk-item {\n",
       "  /* draw centered vertical line to link estimators */\n",
       "  background-image: linear-gradient(var(--sklearn-color-text-on-default-background), var(--sklearn-color-text-on-default-background));\n",
       "  background-size: 2px 100%;\n",
       "  background-repeat: no-repeat;\n",
       "  background-position: center center;\n",
       "}\n",
       "\n",
       "/* Parallel-specific style estimator block */\n",
       "\n",
       "#sk-container-id-36 div.sk-parallel-item::after {\n",
       "  content: \"\";\n",
       "  width: 100%;\n",
       "  border-bottom: 2px solid var(--sklearn-color-text-on-default-background);\n",
       "  flex-grow: 1;\n",
       "}\n",
       "\n",
       "#sk-container-id-36 div.sk-parallel {\n",
       "  display: flex;\n",
       "  align-items: stretch;\n",
       "  justify-content: center;\n",
       "  background-color: var(--sklearn-color-background);\n",
       "  position: relative;\n",
       "}\n",
       "\n",
       "#sk-container-id-36 div.sk-parallel-item {\n",
       "  display: flex;\n",
       "  flex-direction: column;\n",
       "}\n",
       "\n",
       "#sk-container-id-36 div.sk-parallel-item:first-child::after {\n",
       "  align-self: flex-end;\n",
       "  width: 50%;\n",
       "}\n",
       "\n",
       "#sk-container-id-36 div.sk-parallel-item:last-child::after {\n",
       "  align-self: flex-start;\n",
       "  width: 50%;\n",
       "}\n",
       "\n",
       "#sk-container-id-36 div.sk-parallel-item:only-child::after {\n",
       "  width: 0;\n",
       "}\n",
       "\n",
       "/* Serial-specific style estimator block */\n",
       "\n",
       "#sk-container-id-36 div.sk-serial {\n",
       "  display: flex;\n",
       "  flex-direction: column;\n",
       "  align-items: center;\n",
       "  background-color: var(--sklearn-color-background);\n",
       "  padding-right: 1em;\n",
       "  padding-left: 1em;\n",
       "}\n",
       "\n",
       "\n",
       "/* Toggleable style: style used for estimator/Pipeline/ColumnTransformer box that is\n",
       "clickable and can be expanded/collapsed.\n",
       "- Pipeline and ColumnTransformer use this feature and define the default style\n",
       "- Estimators will overwrite some part of the style using the `sk-estimator` class\n",
       "*/\n",
       "\n",
       "/* Pipeline and ColumnTransformer style (default) */\n",
       "\n",
       "#sk-container-id-36 div.sk-toggleable {\n",
       "  /* Default theme specific background. It is overwritten whether we have a\n",
       "  specific estimator or a Pipeline/ColumnTransformer */\n",
       "  background-color: var(--sklearn-color-background);\n",
       "}\n",
       "\n",
       "/* Toggleable label */\n",
       "#sk-container-id-36 label.sk-toggleable__label {\n",
       "  cursor: pointer;\n",
       "  display: block;\n",
       "  width: 100%;\n",
       "  margin-bottom: 0;\n",
       "  padding: 0.5em;\n",
       "  box-sizing: border-box;\n",
       "  text-align: center;\n",
       "}\n",
       "\n",
       "#sk-container-id-36 label.sk-toggleable__label-arrow:before {\n",
       "  /* Arrow on the left of the label */\n",
       "  content: \"▸\";\n",
       "  float: left;\n",
       "  margin-right: 0.25em;\n",
       "  color: var(--sklearn-color-icon);\n",
       "}\n",
       "\n",
       "#sk-container-id-36 label.sk-toggleable__label-arrow:hover:before {\n",
       "  color: var(--sklearn-color-text);\n",
       "}\n",
       "\n",
       "/* Toggleable content - dropdown */\n",
       "\n",
       "#sk-container-id-36 div.sk-toggleable__content {\n",
       "  max-height: 0;\n",
       "  max-width: 0;\n",
       "  overflow: hidden;\n",
       "  text-align: left;\n",
       "  /* unfitted */\n",
       "  background-color: var(--sklearn-color-unfitted-level-0);\n",
       "}\n",
       "\n",
       "#sk-container-id-36 div.sk-toggleable__content.fitted {\n",
       "  /* fitted */\n",
       "  background-color: var(--sklearn-color-fitted-level-0);\n",
       "}\n",
       "\n",
       "#sk-container-id-36 div.sk-toggleable__content pre {\n",
       "  margin: 0.2em;\n",
       "  border-radius: 0.25em;\n",
       "  color: var(--sklearn-color-text);\n",
       "  /* unfitted */\n",
       "  background-color: var(--sklearn-color-unfitted-level-0);\n",
       "}\n",
       "\n",
       "#sk-container-id-36 div.sk-toggleable__content.fitted pre {\n",
       "  /* unfitted */\n",
       "  background-color: var(--sklearn-color-fitted-level-0);\n",
       "}\n",
       "\n",
       "#sk-container-id-36 input.sk-toggleable__control:checked~div.sk-toggleable__content {\n",
       "  /* Expand drop-down */\n",
       "  max-height: 200px;\n",
       "  max-width: 100%;\n",
       "  overflow: auto;\n",
       "}\n",
       "\n",
       "#sk-container-id-36 input.sk-toggleable__control:checked~label.sk-toggleable__label-arrow:before {\n",
       "  content: \"▾\";\n",
       "}\n",
       "\n",
       "/* Pipeline/ColumnTransformer-specific style */\n",
       "\n",
       "#sk-container-id-36 div.sk-label input.sk-toggleable__control:checked~label.sk-toggleable__label {\n",
       "  color: var(--sklearn-color-text);\n",
       "  background-color: var(--sklearn-color-unfitted-level-2);\n",
       "}\n",
       "\n",
       "#sk-container-id-36 div.sk-label.fitted input.sk-toggleable__control:checked~label.sk-toggleable__label {\n",
       "  background-color: var(--sklearn-color-fitted-level-2);\n",
       "}\n",
       "\n",
       "/* Estimator-specific style */\n",
       "\n",
       "/* Colorize estimator box */\n",
       "#sk-container-id-36 div.sk-estimator input.sk-toggleable__control:checked~label.sk-toggleable__label {\n",
       "  /* unfitted */\n",
       "  background-color: var(--sklearn-color-unfitted-level-2);\n",
       "}\n",
       "\n",
       "#sk-container-id-36 div.sk-estimator.fitted input.sk-toggleable__control:checked~label.sk-toggleable__label {\n",
       "  /* fitted */\n",
       "  background-color: var(--sklearn-color-fitted-level-2);\n",
       "}\n",
       "\n",
       "#sk-container-id-36 div.sk-label label.sk-toggleable__label,\n",
       "#sk-container-id-36 div.sk-label label {\n",
       "  /* The background is the default theme color */\n",
       "  color: var(--sklearn-color-text-on-default-background);\n",
       "}\n",
       "\n",
       "/* On hover, darken the color of the background */\n",
       "#sk-container-id-36 div.sk-label:hover label.sk-toggleable__label {\n",
       "  color: var(--sklearn-color-text);\n",
       "  background-color: var(--sklearn-color-unfitted-level-2);\n",
       "}\n",
       "\n",
       "/* Label box, darken color on hover, fitted */\n",
       "#sk-container-id-36 div.sk-label.fitted:hover label.sk-toggleable__label.fitted {\n",
       "  color: var(--sklearn-color-text);\n",
       "  background-color: var(--sklearn-color-fitted-level-2);\n",
       "}\n",
       "\n",
       "/* Estimator label */\n",
       "\n",
       "#sk-container-id-36 div.sk-label label {\n",
       "  font-family: monospace;\n",
       "  font-weight: bold;\n",
       "  display: inline-block;\n",
       "  line-height: 1.2em;\n",
       "}\n",
       "\n",
       "#sk-container-id-36 div.sk-label-container {\n",
       "  text-align: center;\n",
       "}\n",
       "\n",
       "/* Estimator-specific */\n",
       "#sk-container-id-36 div.sk-estimator {\n",
       "  font-family: monospace;\n",
       "  border: 1px dotted var(--sklearn-color-border-box);\n",
       "  border-radius: 0.25em;\n",
       "  box-sizing: border-box;\n",
       "  margin-bottom: 0.5em;\n",
       "  /* unfitted */\n",
       "  background-color: var(--sklearn-color-unfitted-level-0);\n",
       "}\n",
       "\n",
       "#sk-container-id-36 div.sk-estimator.fitted {\n",
       "  /* fitted */\n",
       "  background-color: var(--sklearn-color-fitted-level-0);\n",
       "}\n",
       "\n",
       "/* on hover */\n",
       "#sk-container-id-36 div.sk-estimator:hover {\n",
       "  /* unfitted */\n",
       "  background-color: var(--sklearn-color-unfitted-level-2);\n",
       "}\n",
       "\n",
       "#sk-container-id-36 div.sk-estimator.fitted:hover {\n",
       "  /* fitted */\n",
       "  background-color: var(--sklearn-color-fitted-level-2);\n",
       "}\n",
       "\n",
       "/* Specification for estimator info (e.g. \"i\" and \"?\") */\n",
       "\n",
       "/* Common style for \"i\" and \"?\" */\n",
       "\n",
       ".sk-estimator-doc-link,\n",
       "a:link.sk-estimator-doc-link,\n",
       "a:visited.sk-estimator-doc-link {\n",
       "  float: right;\n",
       "  font-size: smaller;\n",
       "  line-height: 1em;\n",
       "  font-family: monospace;\n",
       "  background-color: var(--sklearn-color-background);\n",
       "  border-radius: 1em;\n",
       "  height: 1em;\n",
       "  width: 1em;\n",
       "  text-decoration: none !important;\n",
       "  margin-left: 1ex;\n",
       "  /* unfitted */\n",
       "  border: var(--sklearn-color-unfitted-level-1) 1pt solid;\n",
       "  color: var(--sklearn-color-unfitted-level-1);\n",
       "}\n",
       "\n",
       ".sk-estimator-doc-link.fitted,\n",
       "a:link.sk-estimator-doc-link.fitted,\n",
       "a:visited.sk-estimator-doc-link.fitted {\n",
       "  /* fitted */\n",
       "  border: var(--sklearn-color-fitted-level-1) 1pt solid;\n",
       "  color: var(--sklearn-color-fitted-level-1);\n",
       "}\n",
       "\n",
       "/* On hover */\n",
       "div.sk-estimator:hover .sk-estimator-doc-link:hover,\n",
       ".sk-estimator-doc-link:hover,\n",
       "div.sk-label-container:hover .sk-estimator-doc-link:hover,\n",
       ".sk-estimator-doc-link:hover {\n",
       "  /* unfitted */\n",
       "  background-color: var(--sklearn-color-unfitted-level-3);\n",
       "  color: var(--sklearn-color-background);\n",
       "  text-decoration: none;\n",
       "}\n",
       "\n",
       "div.sk-estimator.fitted:hover .sk-estimator-doc-link.fitted:hover,\n",
       ".sk-estimator-doc-link.fitted:hover,\n",
       "div.sk-label-container:hover .sk-estimator-doc-link.fitted:hover,\n",
       ".sk-estimator-doc-link.fitted:hover {\n",
       "  /* fitted */\n",
       "  background-color: var(--sklearn-color-fitted-level-3);\n",
       "  color: var(--sklearn-color-background);\n",
       "  text-decoration: none;\n",
       "}\n",
       "\n",
       "/* Span, style for the box shown on hovering the info icon */\n",
       ".sk-estimator-doc-link span {\n",
       "  display: none;\n",
       "  z-index: 9999;\n",
       "  position: relative;\n",
       "  font-weight: normal;\n",
       "  right: .2ex;\n",
       "  padding: .5ex;\n",
       "  margin: .5ex;\n",
       "  width: min-content;\n",
       "  min-width: 20ex;\n",
       "  max-width: 50ex;\n",
       "  color: var(--sklearn-color-text);\n",
       "  box-shadow: 2pt 2pt 4pt #999;\n",
       "  /* unfitted */\n",
       "  background: var(--sklearn-color-unfitted-level-0);\n",
       "  border: .5pt solid var(--sklearn-color-unfitted-level-3);\n",
       "}\n",
       "\n",
       ".sk-estimator-doc-link.fitted span {\n",
       "  /* fitted */\n",
       "  background: var(--sklearn-color-fitted-level-0);\n",
       "  border: var(--sklearn-color-fitted-level-3);\n",
       "}\n",
       "\n",
       ".sk-estimator-doc-link:hover span {\n",
       "  display: block;\n",
       "}\n",
       "\n",
       "/* \"?\"-specific style due to the `<a>` HTML tag */\n",
       "\n",
       "#sk-container-id-36 a.estimator_doc_link {\n",
       "  float: right;\n",
       "  font-size: 1rem;\n",
       "  line-height: 1em;\n",
       "  font-family: monospace;\n",
       "  background-color: var(--sklearn-color-background);\n",
       "  border-radius: 1rem;\n",
       "  height: 1rem;\n",
       "  width: 1rem;\n",
       "  text-decoration: none;\n",
       "  /* unfitted */\n",
       "  color: var(--sklearn-color-unfitted-level-1);\n",
       "  border: var(--sklearn-color-unfitted-level-1) 1pt solid;\n",
       "}\n",
       "\n",
       "#sk-container-id-36 a.estimator_doc_link.fitted {\n",
       "  /* fitted */\n",
       "  border: var(--sklearn-color-fitted-level-1) 1pt solid;\n",
       "  color: var(--sklearn-color-fitted-level-1);\n",
       "}\n",
       "\n",
       "/* On hover */\n",
       "#sk-container-id-36 a.estimator_doc_link:hover {\n",
       "  /* unfitted */\n",
       "  background-color: var(--sklearn-color-unfitted-level-3);\n",
       "  color: var(--sklearn-color-background);\n",
       "  text-decoration: none;\n",
       "}\n",
       "\n",
       "#sk-container-id-36 a.estimator_doc_link.fitted:hover {\n",
       "  /* fitted */\n",
       "  background-color: var(--sklearn-color-fitted-level-3);\n",
       "}\n",
       "</style><div id=\"sk-container-id-36\" class=\"sk-top-container\"><div class=\"sk-text-repr-fallback\"><pre>GridSearchCV(cv=5, estimator=RandomForestClassifier(random_state=5), n_jobs=-2,\n",
       "             param_grid={&#x27;n_estimators&#x27;: [10, 20, 30]}, refit=False,\n",
       "             scoring={&#x27;fn_0&#x27;: make_scorer(extract_class_metric, response_method=&#x27;predict&#x27;),\n",
       "                      &#x27;fn_1&#x27;: make_scorer(extract_class_metric, response_method=&#x27;predict&#x27;),\n",
       "                      &#x27;fn_2&#x27;: make_scorer(extract_class_metric, response_method=&#x27;predict&#x27;),\n",
       "                      &#x27;fn_3&#x27;: make_...\n",
       "                      &#x27;tn_4&#x27;: make_scorer(extract_class_metric, response_method=&#x27;predict&#x27;),\n",
       "                      &#x27;tn_5&#x27;: make_scorer(extract_class_metric, response_method=&#x27;predict&#x27;),\n",
       "                      &#x27;tn_6&#x27;: make_scorer(extract_class_metric, response_method=&#x27;predict&#x27;),\n",
       "                      &#x27;tn_7&#x27;: make_scorer(extract_class_metric, response_method=&#x27;predict&#x27;),\n",
       "                      &#x27;tn_8&#x27;: make_scorer(extract_class_metric, response_method=&#x27;predict&#x27;),\n",
       "                      &#x27;tn_9&#x27;: make_scorer(extract_class_metric, response_method=&#x27;predict&#x27;), ...})</pre><b>In a Jupyter environment, please rerun this cell to show the HTML representation or trust the notebook. <br />On GitHub, the HTML representation is unable to render, please try loading this page with nbviewer.org.</b></div><div class=\"sk-container\" hidden><div class=\"sk-item sk-dashed-wrapped\"><div class=\"sk-label-container\"><div class=\"sk-label fitted sk-toggleable\"><input class=\"sk-toggleable__control sk-hidden--visually\" id=\"sk-estimator-id-98\" type=\"checkbox\" ><label for=\"sk-estimator-id-98\" class=\"sk-toggleable__label fitted sk-toggleable__label-arrow fitted\">&nbsp;&nbsp;GridSearchCV<a class=\"sk-estimator-doc-link fitted\" rel=\"noreferrer\" target=\"_blank\" href=\"https://scikit-learn.org/1.4/modules/generated/sklearn.model_selection.GridSearchCV.html\">?<span>Documentation for GridSearchCV</span></a><span class=\"sk-estimator-doc-link fitted\">i<span>Fitted</span></span></label><div class=\"sk-toggleable__content fitted\"><pre>GridSearchCV(cv=5, estimator=RandomForestClassifier(random_state=5), n_jobs=-2,\n",
       "             param_grid={&#x27;n_estimators&#x27;: [10, 20, 30]}, refit=False,\n",
       "             scoring={&#x27;fn_0&#x27;: make_scorer(extract_class_metric, response_method=&#x27;predict&#x27;),\n",
       "                      &#x27;fn_1&#x27;: make_scorer(extract_class_metric, response_method=&#x27;predict&#x27;),\n",
       "                      &#x27;fn_2&#x27;: make_scorer(extract_class_metric, response_method=&#x27;predict&#x27;),\n",
       "                      &#x27;fn_3&#x27;: make_...\n",
       "                      &#x27;tn_4&#x27;: make_scorer(extract_class_metric, response_method=&#x27;predict&#x27;),\n",
       "                      &#x27;tn_5&#x27;: make_scorer(extract_class_metric, response_method=&#x27;predict&#x27;),\n",
       "                      &#x27;tn_6&#x27;: make_scorer(extract_class_metric, response_method=&#x27;predict&#x27;),\n",
       "                      &#x27;tn_7&#x27;: make_scorer(extract_class_metric, response_method=&#x27;predict&#x27;),\n",
       "                      &#x27;tn_8&#x27;: make_scorer(extract_class_metric, response_method=&#x27;predict&#x27;),\n",
       "                      &#x27;tn_9&#x27;: make_scorer(extract_class_metric, response_method=&#x27;predict&#x27;), ...})</pre></div> </div></div><div class=\"sk-parallel\"><div class=\"sk-parallel-item\"><div class=\"sk-item\"><div class=\"sk-label-container\"><div class=\"sk-label fitted sk-toggleable\"><input class=\"sk-toggleable__control sk-hidden--visually\" id=\"sk-estimator-id-99\" type=\"checkbox\" ><label for=\"sk-estimator-id-99\" class=\"sk-toggleable__label fitted sk-toggleable__label-arrow fitted\">estimator: RandomForestClassifier</label><div class=\"sk-toggleable__content fitted\"><pre>RandomForestClassifier(random_state=5)</pre></div> </div></div><div class=\"sk-serial\"><div class=\"sk-item\"><div class=\"sk-estimator fitted sk-toggleable\"><input class=\"sk-toggleable__control sk-hidden--visually\" id=\"sk-estimator-id-100\" type=\"checkbox\" ><label for=\"sk-estimator-id-100\" class=\"sk-toggleable__label fitted sk-toggleable__label-arrow fitted\">&nbsp;RandomForestClassifier<a class=\"sk-estimator-doc-link fitted\" rel=\"noreferrer\" target=\"_blank\" href=\"https://scikit-learn.org/1.4/modules/generated/sklearn.ensemble.RandomForestClassifier.html\">?<span>Documentation for RandomForestClassifier</span></a></label><div class=\"sk-toggleable__content fitted\"><pre>RandomForestClassifier(random_state=5)</pre></div> </div></div></div></div></div></div></div></div></div>"
      ],
      "text/plain": [
       "GridSearchCV(cv=5, estimator=RandomForestClassifier(random_state=5), n_jobs=-2,\n",
       "             param_grid={'n_estimators': [10, 20, 30]}, refit=False,\n",
       "             scoring={'fn_0': make_scorer(extract_class_metric, response_method='predict'),\n",
       "                      'fn_1': make_scorer(extract_class_metric, response_method='predict'),\n",
       "                      'fn_2': make_scorer(extract_class_metric, response_method='predict'),\n",
       "                      'fn_3': make_...\n",
       "                      'tn_4': make_scorer(extract_class_metric, response_method='predict'),\n",
       "                      'tn_5': make_scorer(extract_class_metric, response_method='predict'),\n",
       "                      'tn_6': make_scorer(extract_class_metric, response_method='predict'),\n",
       "                      'tn_7': make_scorer(extract_class_metric, response_method='predict'),\n",
       "                      'tn_8': make_scorer(extract_class_metric, response_method='predict'),\n",
       "                      'tn_9': make_scorer(extract_class_metric, response_method='predict'), ...})"
      ]
     },
     "execution_count": 322,
     "metadata": {},
     "output_type": "execute_result"
    }
   ],
   "source": [
    "params = {\"n_estimators\" : [10, 20, 30]}\n",
    "\n",
    "gcv = GridSearchCV(\n",
    "    estimator = forest_clf, \n",
    "    param_grid = params, \n",
    "    cv = 5, \n",
    "    scoring = functions, \n",
    "    refit = False, \n",
    "    n_jobs = -2)\n",
    "\n",
    "gcv.fit(X_train, y_train)"
   ]
  },
  {
   "cell_type": "code",
   "execution_count": 293,
   "id": "f7cd5d6e-e8f9-4ec7-ad2b-b08bcf7fec80",
   "metadata": {},
   "outputs": [
    {
     "data": {
      "text/plain": [
       "967.7"
      ]
     },
     "execution_count": 293,
     "metadata": {},
     "output_type": "execute_result"
    }
   ],
   "source": [
    "scorer(forest_clf, X_test, y_test)\n",
    "# f1_score(y_test, y_pred, average = None)"
   ]
  },
  {
   "cell_type": "code",
   "execution_count": null,
   "id": "7ce7216b-14a7-4d9e-9f73-904798745fce",
   "metadata": {},
   "outputs": [],
   "source": []
  },
  {
   "cell_type": "code",
   "execution_count": 323,
   "id": "25bf275f-5b7c-4364-9b36-745c35d95f9d",
   "metadata": {},
   "outputs": [
    {
     "data": {
      "text/plain": [
       "{'mean_fit_time': array([15.65921817, 25.27188005, 30.60079241]),\n",
       " 'std_fit_time': array([0.49478355, 0.5641131 , 0.07753259]),\n",
       " 'mean_score_time': array([0.48403339, 0.40743914, 0.279106  ]),\n",
       " 'std_score_time': array([0.13999586, 0.08318933, 0.02407267]),\n",
       " 'param_n_estimators': masked_array(data=[10, 20, 30],\n",
       "              mask=[False, False, False],\n",
       "        fill_value='?',\n",
       "             dtype=object),\n",
       " 'params': [{'n_estimators': 10}, {'n_estimators': 20}, {'n_estimators': 30}],\n",
       " 'split0_test_tp_0': array([1156., 1164., 1164.]),\n",
       " 'split1_test_tp_0': array([1165., 1169., 1173.]),\n",
       " 'split2_test_tp_0': array([1160., 1168., 1167.]),\n",
       " 'split3_test_tp_0': array([1153., 1165., 1166.]),\n",
       " 'split4_test_tp_0': array([1162., 1169., 1171.]),\n",
       " 'mean_test_tp_0': array([1159.2, 1167. , 1168.2]),\n",
       " 'std_test_tp_0': array([4.26145515, 2.0976177 , 3.31058907]),\n",
       " 'rank_test_tp_0': array([3, 2, 1]),\n",
       " 'split0_test_tp_1': array([1321., 1322., 1322.]),\n",
       " 'split1_test_tp_1': array([1330., 1333., 1335.]),\n",
       " 'split2_test_tp_1': array([1325., 1317., 1322.]),\n",
       " 'split3_test_tp_1': array([1326., 1332., 1329.]),\n",
       " 'split4_test_tp_1': array([1338., 1336., 1335.]),\n",
       " 'mean_test_tp_1': array([1328. , 1328. , 1328.6]),\n",
       " 'std_test_tp_1': array([5.76194412, 7.23878443, 5.81721583]),\n",
       " 'rank_test_tp_1': array([2, 2, 1]),\n",
       " 'split0_test_tp_2': array([1122., 1144., 1149.]),\n",
       " 'split1_test_tp_2': array([1127., 1138., 1140.]),\n",
       " 'split2_test_tp_2': array([1143., 1155., 1149.]),\n",
       " 'split3_test_tp_2': array([1118., 1145., 1150.]),\n",
       " 'split4_test_tp_2': array([1134., 1141., 1142.]),\n",
       " 'mean_test_tp_2': array([1128.8, 1144.6, 1146. ]),\n",
       " 'std_test_tp_2': array([8.88594396, 5.74804315, 4.14728827]),\n",
       " 'rank_test_tp_2': array([3, 2, 1]),\n",
       " 'split0_test_tp_3': array([1117., 1140., 1145.]),\n",
       " 'split1_test_tp_3': array([1145., 1154., 1167.]),\n",
       " 'split2_test_tp_3': array([1128., 1156., 1161.]),\n",
       " 'split3_test_tp_3': array([1115., 1130., 1149.]),\n",
       " 'split4_test_tp_3': array([1142., 1161., 1169.]),\n",
       " 'mean_test_tp_3': array([1129.4, 1148.2, 1158.2]),\n",
       " 'std_test_tp_3': array([12.37093368, 11.46123903,  9.6       ]),\n",
       " 'rank_test_tp_3': array([3, 2, 1]),\n",
       " 'split0_test_tp_4': array([1118., 1131., 1142.]),\n",
       " 'split1_test_tp_4': array([1096., 1116., 1116.]),\n",
       " 'split2_test_tp_4': array([1102., 1112., 1118.]),\n",
       " 'split3_test_tp_4': array([1115., 1122., 1121.]),\n",
       " 'split4_test_tp_4': array([1103., 1124., 1128.]),\n",
       " 'mean_test_tp_4': array([1106.8, 1121. , 1125. ]),\n",
       " 'std_test_tp_4': array([8.32826513, 6.57267069, 9.42337519]),\n",
       " 'rank_test_tp_4': array([3, 2, 1]),\n",
       " 'split0_test_tp_5': array([1009., 1034., 1037.]),\n",
       " 'split1_test_tp_5': array([ 998., 1017., 1027.]),\n",
       " 'split2_test_tp_5': array([ 984., 1014., 1019.]),\n",
       " 'split3_test_tp_5': array([ 996., 1020., 1030.]),\n",
       " 'split4_test_tp_5': array([ 985., 1020., 1024.]),\n",
       " 'mean_test_tp_5': array([ 994.4, 1021. , 1027.4]),\n",
       " 'std_test_tp_5': array([9.22171351, 6.87022561, 6.01996678]),\n",
       " 'rank_test_tp_5': array([3, 2, 1]),\n",
       " 'split0_test_tp_6': array([1146., 1159., 1166.]),\n",
       " 'split1_test_tp_6': array([1132., 1139., 1142.]),\n",
       " 'split2_test_tp_6': array([1134., 1148., 1155.]),\n",
       " 'split3_test_tp_6': array([1142., 1153., 1157.]),\n",
       " 'split4_test_tp_6': array([1149., 1167., 1165.]),\n",
       " 'mean_test_tp_6': array([1140.6, 1153.2, 1157. ]),\n",
       " 'std_test_tp_6': array([6.62117814, 9.5163018 , 8.64869932]),\n",
       " 'rank_test_tp_6': array([3, 2, 1]),\n",
       " 'split0_test_tp_7': array([1188., 1210., 1206.]),\n",
       " 'split1_test_tp_7': array([1184., 1200., 1203.]),\n",
       " 'split2_test_tp_7': array([1178., 1198., 1194.]),\n",
       " 'split3_test_tp_7': array([1176., 1184., 1189.]),\n",
       " 'split4_test_tp_7': array([1200., 1204., 1208.]),\n",
       " 'mean_test_tp_7': array([1185.2, 1199.2, 1200. ]),\n",
       " 'std_test_tp_7': array([8.5416626 , 8.63481326, 7.29383301]),\n",
       " 'rank_test_tp_7': array([3, 2, 1]),\n",
       " 'split0_test_tp_8': array([1032., 1078., 1094.]),\n",
       " 'split1_test_tp_8': array([1047., 1079., 1081.]),\n",
       " 'split2_test_tp_8': array([1058., 1093., 1101.]),\n",
       " 'split3_test_tp_8': array([1044., 1076., 1093.]),\n",
       " 'split4_test_tp_8': array([1057., 1101., 1112.]),\n",
       " 'mean_test_tp_8': array([1047.6, 1085.4, 1096.2]),\n",
       " 'std_test_tp_8': array([ 9.52050419,  9.85088828, 10.18626526]),\n",
       " 'rank_test_tp_8': array([3, 2, 1]),\n",
       " 'split0_test_tp_9': array([1094., 1118., 1135.]),\n",
       " 'split1_test_tp_9': array([1069., 1095., 1103.]),\n",
       " 'split2_test_tp_9': array([1083., 1108., 1114.]),\n",
       " 'split3_test_tp_9': array([1085., 1107., 1117.]),\n",
       " 'split4_test_tp_9': array([1067., 1099., 1115.]),\n",
       " 'mean_test_tp_9': array([1079.6, 1105.4, 1116.8]),\n",
       " 'std_test_tp_9': array([10.19019136,  7.9649231 , 10.32279032]),\n",
       " 'rank_test_tp_9': array([3, 2, 1]),\n",
       " 'split0_test_fp_0': array([44., 28., 19.]),\n",
       " 'split1_test_fp_0': array([58., 46., 36.]),\n",
       " 'split2_test_fp_0': array([63., 48., 43.]),\n",
       " 'split3_test_fp_0': array([58., 41., 29.]),\n",
       " 'split4_test_fp_0': array([58., 36., 33.]),\n",
       " 'mean_test_fp_0': array([56.2, 39.8, 32. ]),\n",
       " 'std_test_fp_0': array([6.4       , 7.22218803, 7.94984277]),\n",
       " 'rank_test_fp_0': array([1, 2, 3]),\n",
       " 'split0_test_fp_1': array([55., 36., 35.]),\n",
       " 'split1_test_fp_1': array([36., 32., 28.]),\n",
       " 'split2_test_fp_1': array([49., 29., 31.]),\n",
       " 'split3_test_fp_1': array([40., 32., 27.]),\n",
       " 'split4_test_fp_1': array([31., 22., 21.]),\n",
       " 'mean_test_fp_1': array([42.2, 30.2, 28.4]),\n",
       " 'std_test_fp_1': array([8.70402206, 4.66476152, 4.63033476]),\n",
       " 'rank_test_fp_1': array([1, 2, 3]),\n",
       " 'split0_test_fp_2': array([90., 64., 55.]),\n",
       " 'split1_test_fp_2': array([103.,  72.,  65.]),\n",
       " 'split2_test_fp_2': array([100.,  73.,  62.]),\n",
       " 'split3_test_fp_2': array([89., 77., 58.]),\n",
       " 'split4_test_fp_2': array([89., 55., 54.]),\n",
       " 'mean_test_fp_2': array([94.2, 68.2, 58.8]),\n",
       " 'std_test_fp_2': array([6.04648658, 7.83326241, 4.16653333]),\n",
       " 'rank_test_fp_2': array([1, 2, 3]),\n",
       " 'split0_test_fp_3': array([102.,  64.,  54.]),\n",
       " 'split1_test_fp_3': array([117.,  80.,  63.]),\n",
       " 'split2_test_fp_3': array([85., 56., 61.]),\n",
       " 'split3_test_fp_3': array([100.,  70.,  64.]),\n",
       " 'split4_test_fp_3': array([114.,  68.,  57.]),\n",
       " 'mean_test_fp_3': array([103.6,  67.6,  59.8]),\n",
       " 'std_test_fp_3': array([11.39473563,  7.83836718,  3.76297754]),\n",
       " 'rank_test_fp_3': array([1, 2, 3]),\n",
       " 'split0_test_fp_4': array([79., 54., 52.]),\n",
       " 'split1_test_fp_4': array([80., 65., 65.]),\n",
       " 'split2_test_fp_4': array([83., 54., 54.]),\n",
       " 'split3_test_fp_4': array([112.,  76.,  68.]),\n",
       " 'split4_test_fp_4': array([76., 57., 46.]),\n",
       " 'mean_test_fp_4': array([86. , 61.2, 57. ]),\n",
       " 'std_test_fp_4': array([13.19090596,  8.42377588,  8.24621125]),\n",
       " 'rank_test_fp_4': array([1, 2, 3]),\n",
       " 'split0_test_fp_5': array([69., 48., 35.]),\n",
       " 'split1_test_fp_5': array([79., 62., 61.]),\n",
       " 'split2_test_fp_5': array([83., 59., 42.]),\n",
       " 'split3_test_fp_5': array([99., 64., 48.]),\n",
       " 'split4_test_fp_5': array([64., 45., 38.]),\n",
       " 'mean_test_fp_5': array([78.8, 55.6, 44.8]),\n",
       " 'std_test_fp_5': array([12.17209924,  7.65767589,  9.19565115]),\n",
       " 'rank_test_fp_5': array([1, 2, 3]),\n",
       " 'split0_test_fp_6': array([36., 39., 33.]),\n",
       " 'split1_test_fp_6': array([36., 29., 26.]),\n",
       " 'split2_test_fp_6': array([48., 42., 38.]),\n",
       " 'split3_test_fp_6': array([43., 30., 27.]),\n",
       " 'split4_test_fp_6': array([44., 35., 30.]),\n",
       " 'mean_test_fp_6': array([41.4, 35. , 30.8]),\n",
       " 'std_test_fp_6': array([4.71593045, 5.01996016, 4.35430821]),\n",
       " 'rank_test_fp_6': array([1, 2, 3]),\n",
       " 'split0_test_fp_7': array([59., 48., 40.]),\n",
       " 'split1_test_fp_7': array([49., 34., 27.]),\n",
       " 'split2_test_fp_7': array([57., 41., 40.]),\n",
       " 'split3_test_fp_7': array([58., 45., 48.]),\n",
       " 'split4_test_fp_7': array([54., 31., 32.]),\n",
       " 'mean_test_fp_7': array([55.4, 39.8, 37.4]),\n",
       " 'std_test_fp_7': array([3.61109402, 6.43117408, 7.25534286]),\n",
       " 'rank_test_fp_7': array([1, 2, 3]),\n",
       " 'split0_test_fp_8': array([94., 60., 65.]),\n",
       " 'split1_test_fp_8': array([72., 67., 68.]),\n",
       " 'split2_test_fp_8': array([66., 60., 66.]),\n",
       " 'split3_test_fp_8': array([65., 54., 48.]),\n",
       " 'split4_test_fp_8': array([65., 59., 58.]),\n",
       " 'mean_test_fp_8': array([72.4, 60. , 61. ]),\n",
       " 'std_test_fp_8': array([11.11035553,  4.14728827,  7.32120209]),\n",
       " 'rank_test_fp_8': array([1, 3, 2]),\n",
       " 'split0_test_fp_9': array([69., 59., 52.]),\n",
       " 'split1_test_fp_9': array([77., 73., 74.]),\n",
       " 'split2_test_fp_9': array([71., 69., 63.]),\n",
       " 'split3_test_fp_9': array([66., 77., 82.]),\n",
       " 'split4_test_fp_9': array([68., 70., 62.]),\n",
       " 'mean_test_fp_9': array([70.2, 69.6, 66.6]),\n",
       " 'std_test_fp_9': array([ 3.76297754,  5.98665182, 10.38460399]),\n",
       " 'rank_test_fp_9': array([1, 2, 3]),\n",
       " 'split0_test_tn_0': array([10772., 10788., 10797.]),\n",
       " 'split1_test_tn_0': array([10757., 10769., 10779.]),\n",
       " 'split2_test_tn_0': array([10752., 10767., 10772.]),\n",
       " 'split3_test_tn_0': array([10757., 10774., 10786.]),\n",
       " 'split4_test_tn_0': array([10758., 10780., 10783.]),\n",
       " 'mean_test_tn_0': array([10759.2, 10775.6, 10783.4]),\n",
       " 'std_test_tn_0': array([6.7349833 , 7.65767589, 8.26075057]),\n",
       " 'rank_test_tn_0': array([3, 2, 1]),\n",
       " 'split0_test_tn_1': array([10597., 10616., 10617.]),\n",
       " 'split1_test_tn_1': array([10615., 10619., 10623.]),\n",
       " 'split2_test_tn_1': array([10602., 10622., 10620.]),\n",
       " 'split3_test_tn_1': array([10612., 10620., 10625.]),\n",
       " 'split4_test_tn_1': array([10621., 10630., 10631.]),\n",
       " 'mean_test_tn_1': array([10609.4, 10621.4, 10623.2]),\n",
       " 'std_test_tn_1': array([8.73155198, 4.71593045, 4.74973683]),\n",
       " 'rank_test_tn_1': array([3, 2, 1]),\n",
       " 'split0_test_tn_2': array([10719., 10745., 10754.]),\n",
       " 'split1_test_tn_2': array([10706., 10737., 10744.]),\n",
       " 'split2_test_tn_2': array([10708., 10735., 10746.]),\n",
       " 'split3_test_tn_2': array([10719., 10731., 10750.]),\n",
       " 'split4_test_tn_2': array([10719., 10753., 10754.]),\n",
       " 'mean_test_tn_2': array([10714.2, 10740.2, 10749.6]),\n",
       " 'std_test_tn_2': array([5.9126982 , 7.85875308, 4.07921561]),\n",
       " 'rank_test_tn_2': array([3, 2, 1]),\n",
       " 'split0_test_tn_3': array([10671., 10709., 10719.]),\n",
       " 'split1_test_tn_3': array([10657., 10694., 10711.]),\n",
       " 'split2_test_tn_3': array([10689., 10718., 10713.]),\n",
       " 'split3_test_tn_3': array([10674., 10704., 10710.]),\n",
       " 'split4_test_tn_3': array([10660., 10706., 10717.]),\n",
       " 'mean_test_tn_3': array([10670.2, 10706.2, 10714. ]),\n",
       " 'std_test_tn_3': array([11.37365377,  7.75628777,  3.46410162]),\n",
       " 'rank_test_tn_3': array([3, 2, 1]),\n",
       " 'split0_test_tn_4': array([10752., 10777., 10779.]),\n",
       " 'split1_test_tn_4': array([10752., 10767., 10767.]),\n",
       " 'split2_test_tn_4': array([10749., 10778., 10778.]),\n",
       " 'split3_test_tn_4': array([10720., 10756., 10764.]),\n",
       " 'split4_test_tn_4': array([10755., 10774., 10785.]),\n",
       " 'mean_test_tn_4': array([10745.6, 10770.4, 10774.6]),\n",
       " 'std_test_tn_4': array([12.9398609 ,  8.16333265,  7.8638413 ]),\n",
       " 'rank_test_tn_4': array([3, 2, 1]),\n",
       " 'split0_test_tn_5': array([10846., 10867., 10880.]),\n",
       " 'split1_test_tn_5': array([10837., 10854., 10855.]),\n",
       " 'split2_test_tn_5': array([10833., 10857., 10874.]),\n",
       " 'split3_test_tn_5': array([10817., 10852., 10868.]),\n",
       " 'split4_test_tn_5': array([10852., 10871., 10878.]),\n",
       " 'mean_test_tn_5': array([10837. , 10860.2, 10871. ]),\n",
       " 'std_test_tn_5': array([12.01665511,  7.46726188,  8.98888202]),\n",
       " 'rank_test_tn_5': array([3, 2, 1]),\n",
       " 'split0_test_tn_6': array([10781., 10778., 10784.]),\n",
       " 'split1_test_tn_6': array([10780., 10787., 10790.]),\n",
       " 'split2_test_tn_6': array([10768., 10774., 10778.]),\n",
       " 'split3_test_tn_6': array([10773., 10786., 10789.]),\n",
       " 'split4_test_tn_6': array([10773., 10782., 10787.]),\n",
       " 'mean_test_tn_6': array([10775. , 10781.4, 10785.6]),\n",
       " 'std_test_tn_6': array([4.85798312, 4.88262225, 4.31740663]),\n",
       " 'rank_test_tn_6': array([3, 2, 1]),\n",
       " 'split0_test_tn_7': array([10688., 10699., 10707.]),\n",
       " 'split1_test_tn_7': array([10698., 10713., 10720.]),\n",
       " 'split2_test_tn_7': array([10690., 10706., 10707.]),\n",
       " 'split3_test_tn_7': array([10689., 10702., 10699.]),\n",
       " 'split4_test_tn_7': array([10693., 10716., 10715.]),\n",
       " 'mean_test_tn_7': array([10691.6, 10707.2, 10709.6]),\n",
       " 'std_test_tn_7': array([3.61109402, 6.43117408, 7.25534286]),\n",
       " 'rank_test_tn_7': array([3, 2, 1]),\n",
       " 'split0_test_tn_8': array([10736., 10770., 10765.]),\n",
       " 'split1_test_tn_8': array([10758., 10763., 10762.]),\n",
       " 'split2_test_tn_8': array([10764., 10770., 10764.]),\n",
       " 'split3_test_tn_8': array([10765., 10776., 10782.]),\n",
       " 'split4_test_tn_8': array([10764., 10770., 10771.]),\n",
       " 'mean_test_tn_8': array([10757.4, 10769.8, 10768.8]),\n",
       " 'std_test_tn_8': array([10.98362417,  4.11825206,  7.24982758]),\n",
       " 'rank_test_tn_8': array([3, 1, 2]),\n",
       " 'split0_test_tn_9': array([10741., 10751., 10758.]),\n",
       " 'split1_test_tn_9': array([10733., 10737., 10736.]),\n",
       " 'split2_test_tn_9': array([10740., 10742., 10748.]),\n",
       " 'split3_test_tn_9': array([10744., 10733., 10728.]),\n",
       " 'split4_test_tn_9': array([10742., 10740., 10748.]),\n",
       " 'mean_test_tn_9': array([10740. , 10740.6, 10743.6]),\n",
       " 'std_test_tn_9': array([ 3.74165739,  6.01996678, 10.46135746]),\n",
       " 'rank_test_tn_9': array([3, 2, 1]),\n",
       " 'split0_test_fn_0': array([28., 20., 20.]),\n",
       " 'split1_test_fn_0': array([20., 16., 12.]),\n",
       " 'split2_test_fn_0': array([25., 17., 18.]),\n",
       " 'split3_test_fn_0': array([32., 20., 19.]),\n",
       " 'split4_test_fn_0': array([22., 15., 13.]),\n",
       " 'mean_test_fn_0': array([25.4, 17.6, 16.4]),\n",
       " 'std_test_fn_0': array([4.2708313 , 2.05912603, 3.26190129]),\n",
       " 'rank_test_fn_0': array([1, 2, 3]),\n",
       " 'split0_test_fn_1': array([27., 26., 26.]),\n",
       " 'split1_test_fn_1': array([19., 16., 14.]),\n",
       " 'split2_test_fn_1': array([24., 32., 27.]),\n",
       " 'split3_test_fn_1': array([22., 16., 19.]),\n",
       " 'split4_test_fn_1': array([10., 12., 13.]),\n",
       " 'mean_test_fn_1': array([20.4, 20.4, 19.8]),\n",
       " 'std_test_fn_1': array([5.81721583, 7.4188948 , 5.84465568]),\n",
       " 'rank_test_fn_1': array([1, 1, 3]),\n",
       " 'split0_test_fn_2': array([69., 47., 42.]),\n",
       " 'split1_test_fn_2': array([64., 53., 51.]),\n",
       " 'split2_test_fn_2': array([49., 37., 43.]),\n",
       " 'split3_test_fn_2': array([74., 47., 42.]),\n",
       " 'split4_test_fn_2': array([58., 51., 50.]),\n",
       " 'mean_test_fn_2': array([62.8, 47. , 45.6]),\n",
       " 'std_test_fn_2': array([8.70402206, 5.5136195 , 4.02988834]),\n",
       " 'rank_test_fn_2': array([1, 2, 3]),\n",
       " 'split0_test_fn_3': array([110.,  87.,  82.]),\n",
       " 'split1_test_fn_3': array([81., 72., 59.]),\n",
       " 'split2_test_fn_3': array([98., 70., 65.]),\n",
       " 'split3_test_fn_3': array([111.,  96.,  77.]),\n",
       " 'split4_test_fn_3': array([84., 65., 57.]),\n",
       " 'mean_test_fn_3': array([96.8, 78. , 68. ]),\n",
       " 'std_test_fn_3': array([12.57616794, 11.61034022,  9.87927123]),\n",
       " 'rank_test_fn_3': array([1, 2, 3]),\n",
       " 'split0_test_fn_4': array([51., 38., 27.]),\n",
       " 'split1_test_fn_4': array([72., 52., 52.]),\n",
       " 'split2_test_fn_4': array([66., 56., 50.]),\n",
       " 'split3_test_fn_4': array([53., 46., 47.]),\n",
       " 'split4_test_fn_4': array([66., 45., 41.]),\n",
       " 'mean_test_fn_4': array([61.6, 47.4, 43.4]),\n",
       " 'std_test_fn_4': array([8.16333265, 6.18384993, 9.00222195]),\n",
       " 'rank_test_fn_4': array([1, 2, 3]),\n",
       " 'split0_test_fn_5': array([76., 51., 48.]),\n",
       " 'split1_test_fn_5': array([86., 67., 57.]),\n",
       " 'split2_test_fn_5': array([100.,  70.,  65.]),\n",
       " 'split3_test_fn_5': array([88., 64., 54.]),\n",
       " 'split4_test_fn_5': array([99., 64., 60.]),\n",
       " 'mean_test_fn_5': array([89.8, 63.2, 56.8]),\n",
       " 'std_test_fn_5': array([8.90842298, 6.49307323, 5.70613705]),\n",
       " 'rank_test_fn_5': array([1, 2, 3]),\n",
       " 'split0_test_fn_6': array([37., 24., 17.]),\n",
       " 'split1_test_fn_6': array([52., 45., 42.]),\n",
       " 'split2_test_fn_6': array([50., 36., 29.]),\n",
       " 'split3_test_fn_6': array([42., 31., 27.]),\n",
       " 'split4_test_fn_6': array([34., 16., 18.]),\n",
       " 'mean_test_fn_6': array([43. , 30.4, 26.6]),\n",
       " 'std_test_fn_6': array([7.04272674, 9.93176721, 9.0465463 ]),\n",
       " 'rank_test_fn_6': array([1, 2, 3]),\n",
       " 'split0_test_fn_7': array([65., 43., 47.]),\n",
       " 'split1_test_fn_7': array([69., 53., 50.]),\n",
       " 'split2_test_fn_7': array([75., 55., 59.]),\n",
       " 'split3_test_fn_7': array([77., 69., 64.]),\n",
       " 'split4_test_fn_7': array([53., 49., 45.]),\n",
       " 'mean_test_fn_7': array([67.8, 53.8, 53. ]),\n",
       " 'std_test_fn_7': array([8.5416626 , 8.63481326, 7.29383301]),\n",
       " 'rank_test_fn_7': array([1, 2, 3]),\n",
       " 'split0_test_fn_8': array([138.,  92.,  76.]),\n",
       " 'split1_test_fn_8': array([123.,  91.,  89.]),\n",
       " 'split2_test_fn_8': array([112.,  77.,  69.]),\n",
       " 'split3_test_fn_8': array([126.,  94.,  77.]),\n",
       " 'split4_test_fn_8': array([114.,  70.,  59.]),\n",
       " 'mean_test_fn_8': array([122.6,  84.8,  74. ]),\n",
       " 'std_test_fn_8': array([9.32952303, 9.53729521, 9.87927123]),\n",
       " 'rank_test_fn_8': array([1, 2, 3]),\n",
       " 'split0_test_fn_9': array([96., 72., 55.]),\n",
       " 'split1_test_fn_9': array([121.,  95.,  87.]),\n",
       " 'split2_test_fn_9': array([106.,  81.,  75.]),\n",
       " 'split3_test_fn_9': array([105.,  83.,  73.]),\n",
       " 'split4_test_fn_9': array([123.,  91.,  75.]),\n",
       " 'mean_test_fn_9': array([110.2,  84.4,  73. ]),\n",
       " 'std_test_fn_9': array([10.26450194,  8.0399005 , 10.27618606]),\n",
       " 'rank_test_fn_9': array([1, 2, 3])}"
      ]
     },
     "execution_count": 323,
     "metadata": {},
     "output_type": "execute_result"
    }
   ],
   "source": [
    "gcv.cv_results_"
   ]
  },
  {
   "cell_type": "markdown",
   "id": "c33f2212-36eb-4bf1-986b-fb2511cd3bad",
   "metadata": {},
   "source": [
    "# Training A Multiclass Classifier"
   ]
  },
  {
   "cell_type": "markdown",
   "id": "f2ba2544-9706-490d-a709-f11fc147201a",
   "metadata": {},
   "source": [
    "Not all classifiers can automatically support multiclass problems, for example Support Vector Machines and Logistic Regression are both suited for binary classification. However, Naive Bayes, Random Forest and SGD are natively mutliclass. This means if you want to use a binary classifer, you would have to reform the multiclass problem as multiple binary problems. For example, using the *One-versus-the-Rest (OvR)* or *One-versus-One(OvO)*. The latter is usually more computational intensive, as it pairs each class to another. So if you have *N* classes, you need (*N* x *N* - 1) / 2 pairs. As we have 10 digits in the MNIST data, that means we would need to train 45 classifiers. The alternative is the *OvR* where we train *N* classifiers, which are trained to detect one class from the rest, and we select the highest scoring one. Generally, *OvR* is preferred by sometimes *OvO* is a practical option as it reduces each training set. This means for algorithms like SVM, which do not scale efficiently, it is easier to train many small classifiers than a handful of large ones.   "
   ]
  },
  {
   "cell_type": "code",
   "execution_count": null,
   "id": "1b77a2b3-18e6-4dd8-bb67-a81df7219ea1",
   "metadata": {},
   "outputs": [],
   "source": [
    "from sklearn.svm import SVC\n",
    "svm_clf = SVC()"
   ]
  },
  {
   "cell_type": "code",
   "execution_count": null,
   "id": "2d411054-839b-4fc4-8d2c-0ff567bf1fb3",
   "metadata": {},
   "outputs": [],
   "source": [
    "svm_clf.fit(X_train, y_train) ## sklearn will automatically use One vs One as we are using a SVM - so this is actually training 45 models\n",
    "# svm_clf.predict([some_digit]) ## it should return with a 5\n"
   ]
  },
  {
   "cell_type": "code",
   "execution_count": null,
   "id": "241f85ad-92e9-47ef-a94d-9739e0c268f3",
   "metadata": {},
   "outputs": [],
   "source": [
    "some_digit_scores = svm_clf.decision_function([some_digit])\n",
    "some_digit_scores ## notive how it returns N number of values instead of 1. As it has a score for each class - not classifier. "
   ]
  },
  {
   "cell_type": "code",
   "execution_count": null,
   "id": "bd18c0a0-ea73-461e-a8b5-195bb486dd1b",
   "metadata": {},
   "outputs": [],
   "source": [
    "i = np.argmax(some_digit_scores) ## the position of the largest class\n",
    "svm_clf.classes_[i] ## in out case, the 5th class is the number 5!"
   ]
  },
  {
   "cell_type": "markdown",
   "id": "a3a0781f-eadb-4458-83b5-cf5b166dcdc2",
   "metadata": {},
   "source": [
    "We can explicitly control which form Sci-kit uses, here we specify the OnevsRest version of the classifier. "
   ]
  },
  {
   "cell_type": "code",
   "execution_count": null,
   "id": "1ebf1587-8e7c-427a-8d64-42ccaeb783de",
   "metadata": {},
   "outputs": [],
   "source": [
    "from sklearn.multiclass import OneVsRestClassifier"
   ]
  },
  {
   "cell_type": "code",
   "execution_count": null,
   "id": "de93a48b-1068-43a9-b86b-aaa644632f18",
   "metadata": {},
   "outputs": [],
   "source": [
    "ovr_clf = OneVsRestClassifier(SVC(random_state = 42))\n",
    "ovr_clf.fit(X_train[:1000], y_train[:1000])\n",
    "ovr_clf.predict([some_digit])"
   ]
  },
  {
   "cell_type": "code",
   "execution_count": null,
   "id": "8173d975-4072-42e2-ae94-7da2682d18ba",
   "metadata": {},
   "outputs": [],
   "source": [
    "len(ovr_clf.estimators_) ## the number of classifiers"
   ]
  },
  {
   "cell_type": "code",
   "execution_count": null,
   "id": "12446af3-f151-4b96-bd22-11e8338b3b1e",
   "metadata": {},
   "outputs": [],
   "source": [
    "sgd_clf.fit(X_train, y_train) ## SGD handles multiclass natively. \n",
    "sgd_clf.predict([some_digit])"
   ]
  },
  {
   "cell_type": "markdown",
   "id": "8d343028-fcad-4fec-a386-683749124070",
   "metadata": {},
   "source": [
    "If we run the decision function now, we get a value for each class, again the highest value is the class which is selected."
   ]
  },
  {
   "cell_type": "code",
   "execution_count": null,
   "id": "5bc3c09f-c477-4fbd-8558-e3940df735bc",
   "metadata": {},
   "outputs": [],
   "source": [
    "sgd_clf.decision_function([some_digit]) ## see how the argument for 5 is the largest."
   ]
  },
  {
   "cell_type": "code",
   "execution_count": null,
   "id": "1f196a77-4b48-414a-b600-4fed1e1fe4f1",
   "metadata": {},
   "outputs": [],
   "source": [
    "from sklearn.preprocessing import StandardScaler\n",
    "\n",
    "cross_val_score(sgd_clf, X_train, y_train, cv = 3, scoring = \"accuracy\")"
   ]
  },
  {
   "cell_type": "code",
   "execution_count": null,
   "id": "280e53ed-206b-4d69-8f47-44775a4ed785",
   "metadata": {},
   "outputs": [],
   "source": [
    "This chapter does not go through the same steps as the previous, we should still transform our data as it typically improves scores, \n",
    "then effectivly search the space of parameters to fine tune a handful of candidate models before narrowing it down further."
   ]
  },
  {
   "cell_type": "code",
   "execution_count": null,
   "id": "8ce035e5-df18-40ab-946b-b15ecd7c45d9",
   "metadata": {},
   "outputs": [],
   "source": [
    "scaler = StandardScaler()\n",
    "X_train_scale = scaler.fit_transform(X_train.astype(np.float64))\n",
    "cross_val_score(sgd_clf, X_train_scale, y_train, cv = 3, scoring = \"accuracy\")"
   ]
  },
  {
   "cell_type": "markdown",
   "id": "a2b926e0-3617-4809-8ed4-1a4e39461ffb",
   "metadata": {},
   "source": [
    "## Error Analysis"
   ]
  },
  {
   "cell_type": "code",
   "execution_count": null,
   "id": "56a8085a-2bdf-44c3-bf72-d97cc232fdff",
   "metadata": {},
   "outputs": [],
   "source": [
    "%%timeit\n",
    "from joblib import parallel_backend\n",
    "\n",
    "with parallel_backend('threading', n_jobs=11):\n",
    "   \n",
    "    y_train_pred = cross_val_predict(sgd_clf, X_train_scale, y_train, cv=3)\n",
    "    conf_mx = confusion_matrix(y_train, y_train_pred)\n",
    "\n",
    "conf_mx"
   ]
  },
  {
   "cell_type": "code",
   "execution_count": null,
   "id": "dc0e15f4-dc12-47ea-9743-32803aabe91d",
   "metadata": {},
   "outputs": [],
   "source": [
    "%%timeit\n",
    "from joblib import parallel_backend\n",
    "\n",
    "with parallel_backend('threading', n_jobs=2):\n",
    "   \n",
    "    y_train_pred = cross_val_predict(sgd_clf, X_train_scale, y_train, cv=3)\n",
    "    conf_mx = confusion_matrix(y_train, y_train_pred)\n",
    "\n",
    "conf_mx"
   ]
  },
  {
   "cell_type": "code",
   "execution_count": null,
   "id": "67259450-b242-4d88-aac5-e26b6513abd3",
   "metadata": {},
   "outputs": [],
   "source": [
    "from sklearn.metrics import ConfusionMatrixDisplay\n",
    "ConfusionMatrixDisplay.from_predictions(y_train, y_train_pred, normalize = \"true\")\n",
    "plt.show()"
   ]
  },
  {
   "cell_type": "markdown",
   "id": "4002f037-5b1a-4752-ad7b-62baea838620",
   "metadata": {},
   "source": [
    "The above matrix is find but it shows the absolute number of errors instead of the relative rate of errors, which allows us to compare them better. Let's get the number of all the real classes (in the rows) so that we aren't unfairly evaluating the more abundant classes. This is how to do it manually, but sklearn has a handy argument for us called normalize."
   ]
  },
  {
   "cell_type": "code",
   "execution_count": null,
   "id": "7bcb3029-bef0-4e9a-8f45-60c5e30d01f2",
   "metadata": {},
   "outputs": [],
   "source": [
    "row_sums = conf_mx.sum(axis=1, keepdims=True)\n",
    "norm_conf_mx = conf_mx / row_sums\n",
    "norm_conf_mx[0]"
   ]
  },
  {
   "cell_type": "code",
   "execution_count": null,
   "id": "85101e6f-15b5-4ae4-a4f9-99197aceeb27",
   "metadata": {},
   "outputs": [],
   "source": [
    "ConfusionMatrixDisplay.from_predictions(y_train, y_train_pred, normalize = \"true\", include_values = False)\n",
    "plt.show()"
   ]
  },
  {
   "cell_type": "code",
   "execution_count": null,
   "id": "1c328538-7774-4087-bc41-aba9566d4ba8",
   "metadata": {},
   "outputs": [],
   "source": [
    "## let's remove the correct values, as the might be hiding the more common errors as the range of colours is not great. \n",
    "np.fill_diagonal(norm_conf_mx, 0)\n",
    "# plt.matshow(norm_conf_mx)\n",
    "fig = plt.figure(figsize = (8, 8))\n",
    "ax = fig.add_subplot(111)\n",
    "cax = ax.matshow(norm_conf_mx)\n",
    "fig.colorbar(cax)\n",
    "ax.set_xlabel(\"Predicted Label\")\n",
    "ax.set_ylabel(\"True Label\")\n",
    "plt.show()"
   ]
  },
  {
   "cell_type": "code",
   "execution_count": 37,
   "id": "ad724815-4f70-43b8-939d-299dae961a03",
   "metadata": {},
   "outputs": [],
   "source": [
    "## CODE FROM THEIR NOTEBOOK\n",
    "def plot_digit(data):\n",
    "    image = data.reshape(28, 28)\n",
    "    plt.imshow(image, cmap = mpl.cm.binary,\n",
    "               interpolation=\"nearest\")\n",
    "    plt.axis(\"off\")\n",
    "\n",
    "# EXTRA\n",
    "def plot_digits(instances, images_per_row=10, **options):\n",
    "    size = 28\n",
    "    images_per_row = min(len(instances), images_per_row)\n",
    "    # This is equivalent to n_rows = ceil(len(instances) / images_per_row):\n",
    "    n_rows = (len(instances) - 1) // images_per_row + 1\n",
    "\n",
    "    # Append empty images to fill the end of the grid, if needed:\n",
    "    n_empty = n_rows * images_per_row - len(instances)\n",
    "    padded_instances = np.concatenate([instances, np.zeros((n_empty, size * size))], axis=0)\n",
    "\n",
    "    # Reshape the array so it's organized as a grid containing 28×28 images:\n",
    "    image_grid = padded_instances.reshape((n_rows, images_per_row, size, size))\n",
    "\n",
    "    # Combine axes 0 and 2 (vertical image grid axis, and vertical image axis),\n",
    "    # and axes 1 and 3 (horizontal axes). We first need to move the axes that we\n",
    "    # want to combine next to each other, using transpose(), and only then we\n",
    "    # can reshape:\n",
    "    big_image = image_grid.transpose(0, 2, 1, 3).reshape(n_rows * size,\n",
    "                                                         images_per_row * size)\n",
    "    # Now that we have a big image, we just need to show it:\n",
    "    plt.imshow(big_image, cmap = plt.cm.binary, **options)\n",
    "    plt.axis(\"off\")"
   ]
  },
  {
   "cell_type": "code",
   "execution_count": null,
   "id": "49e4cf3a-28e3-4ccd-a581-a95c73355e5a",
   "metadata": {},
   "outputs": [],
   "source": [
    "cl_a, cl_b = 8, 5\n",
    "X_aa = X_train[(y_train == cl_a) & (y_train_pred == cl_a)] ## an 8 is predicted as an 8\n",
    "X_ab = X_train[(y_train == cl_a) & (y_train_pred == cl_b)] ## an 8 is predicted as a 5\n",
    "X_ba = X_train[(y_train == cl_b) & (y_train_pred == cl_a)] ## a 5 predicted as an 8\n",
    "X_bb = X_train[(y_train == cl_b) & (y_train_pred == cl_b)] ## a 5 predicted as an 5\n",
    "\n",
    "plt.figure(figsize=(8,8))\n",
    "plt.subplot(221); plot_digits(X_aa[:25], images_per_row=5)\n",
    "plt.subplot(222); plot_digits(X_ab[:25], images_per_row=5)\n",
    "plt.subplot(223); plot_digits(X_ba[:25], images_per_row=5)\n",
    "plt.subplot(224); plot_digits(X_bb[:25], images_per_row=5)\n",
    "plt.show()"
   ]
  },
  {
   "cell_type": "markdown",
   "id": "cab5dcfa-6c12-45b2-90a6-0c6b8b0e8699",
   "metadata": {},
   "source": [
    "# MultiLabel Classification"
   ]
  },
  {
   "cell_type": "code",
   "execution_count": 2,
   "id": "babf53a6-effb-4011-825c-901c70e82fd0",
   "metadata": {},
   "outputs": [],
   "source": [
    "from sklearn.neighbors import KNeighborsClassifier"
   ]
  },
  {
   "cell_type": "code",
   "execution_count": 28,
   "id": "215bf6a2-9373-4cd5-8131-b2364a7bf697",
   "metadata": {},
   "outputs": [],
   "source": [
    "y_train_large = (y_train >= 7)\n",
    "y_train_odd = (y_train % 2 == 1)\n",
    "y_multilabel = np.c_[y_train_large, y_train_odd] "
   ]
  },
  {
   "cell_type": "code",
   "execution_count": 29,
   "id": "418b4021-6425-4558-b6c9-45a9687b9b58",
   "metadata": {},
   "outputs": [
    {
     "data": {
      "text/html": [
       "<style>#sk-container-id-3 {\n",
       "  /* Definition of color scheme common for light and dark mode */\n",
       "  --sklearn-color-text: black;\n",
       "  --sklearn-color-line: gray;\n",
       "  /* Definition of color scheme for unfitted estimators */\n",
       "  --sklearn-color-unfitted-level-0: #fff5e6;\n",
       "  --sklearn-color-unfitted-level-1: #f6e4d2;\n",
       "  --sklearn-color-unfitted-level-2: #ffe0b3;\n",
       "  --sklearn-color-unfitted-level-3: chocolate;\n",
       "  /* Definition of color scheme for fitted estimators */\n",
       "  --sklearn-color-fitted-level-0: #f0f8ff;\n",
       "  --sklearn-color-fitted-level-1: #d4ebff;\n",
       "  --sklearn-color-fitted-level-2: #b3dbfd;\n",
       "  --sklearn-color-fitted-level-3: cornflowerblue;\n",
       "\n",
       "  /* Specific color for light theme */\n",
       "  --sklearn-color-text-on-default-background: var(--sg-text-color, var(--theme-code-foreground, var(--jp-content-font-color1, black)));\n",
       "  --sklearn-color-background: var(--sg-background-color, var(--theme-background, var(--jp-layout-color0, white)));\n",
       "  --sklearn-color-border-box: var(--sg-text-color, var(--theme-code-foreground, var(--jp-content-font-color1, black)));\n",
       "  --sklearn-color-icon: #696969;\n",
       "\n",
       "  @media (prefers-color-scheme: dark) {\n",
       "    /* Redefinition of color scheme for dark theme */\n",
       "    --sklearn-color-text-on-default-background: var(--sg-text-color, var(--theme-code-foreground, var(--jp-content-font-color1, white)));\n",
       "    --sklearn-color-background: var(--sg-background-color, var(--theme-background, var(--jp-layout-color0, #111)));\n",
       "    --sklearn-color-border-box: var(--sg-text-color, var(--theme-code-foreground, var(--jp-content-font-color1, white)));\n",
       "    --sklearn-color-icon: #878787;\n",
       "  }\n",
       "}\n",
       "\n",
       "#sk-container-id-3 {\n",
       "  color: var(--sklearn-color-text);\n",
       "}\n",
       "\n",
       "#sk-container-id-3 pre {\n",
       "  padding: 0;\n",
       "}\n",
       "\n",
       "#sk-container-id-3 input.sk-hidden--visually {\n",
       "  border: 0;\n",
       "  clip: rect(1px 1px 1px 1px);\n",
       "  clip: rect(1px, 1px, 1px, 1px);\n",
       "  height: 1px;\n",
       "  margin: -1px;\n",
       "  overflow: hidden;\n",
       "  padding: 0;\n",
       "  position: absolute;\n",
       "  width: 1px;\n",
       "}\n",
       "\n",
       "#sk-container-id-3 div.sk-dashed-wrapped {\n",
       "  border: 1px dashed var(--sklearn-color-line);\n",
       "  margin: 0 0.4em 0.5em 0.4em;\n",
       "  box-sizing: border-box;\n",
       "  padding-bottom: 0.4em;\n",
       "  background-color: var(--sklearn-color-background);\n",
       "}\n",
       "\n",
       "#sk-container-id-3 div.sk-container {\n",
       "  /* jupyter's `normalize.less` sets `[hidden] { display: none; }`\n",
       "     but bootstrap.min.css set `[hidden] { display: none !important; }`\n",
       "     so we also need the `!important` here to be able to override the\n",
       "     default hidden behavior on the sphinx rendered scikit-learn.org.\n",
       "     See: https://github.com/scikit-learn/scikit-learn/issues/21755 */\n",
       "  display: inline-block !important;\n",
       "  position: relative;\n",
       "}\n",
       "\n",
       "#sk-container-id-3 div.sk-text-repr-fallback {\n",
       "  display: none;\n",
       "}\n",
       "\n",
       "div.sk-parallel-item,\n",
       "div.sk-serial,\n",
       "div.sk-item {\n",
       "  /* draw centered vertical line to link estimators */\n",
       "  background-image: linear-gradient(var(--sklearn-color-text-on-default-background), var(--sklearn-color-text-on-default-background));\n",
       "  background-size: 2px 100%;\n",
       "  background-repeat: no-repeat;\n",
       "  background-position: center center;\n",
       "}\n",
       "\n",
       "/* Parallel-specific style estimator block */\n",
       "\n",
       "#sk-container-id-3 div.sk-parallel-item::after {\n",
       "  content: \"\";\n",
       "  width: 100%;\n",
       "  border-bottom: 2px solid var(--sklearn-color-text-on-default-background);\n",
       "  flex-grow: 1;\n",
       "}\n",
       "\n",
       "#sk-container-id-3 div.sk-parallel {\n",
       "  display: flex;\n",
       "  align-items: stretch;\n",
       "  justify-content: center;\n",
       "  background-color: var(--sklearn-color-background);\n",
       "  position: relative;\n",
       "}\n",
       "\n",
       "#sk-container-id-3 div.sk-parallel-item {\n",
       "  display: flex;\n",
       "  flex-direction: column;\n",
       "}\n",
       "\n",
       "#sk-container-id-3 div.sk-parallel-item:first-child::after {\n",
       "  align-self: flex-end;\n",
       "  width: 50%;\n",
       "}\n",
       "\n",
       "#sk-container-id-3 div.sk-parallel-item:last-child::after {\n",
       "  align-self: flex-start;\n",
       "  width: 50%;\n",
       "}\n",
       "\n",
       "#sk-container-id-3 div.sk-parallel-item:only-child::after {\n",
       "  width: 0;\n",
       "}\n",
       "\n",
       "/* Serial-specific style estimator block */\n",
       "\n",
       "#sk-container-id-3 div.sk-serial {\n",
       "  display: flex;\n",
       "  flex-direction: column;\n",
       "  align-items: center;\n",
       "  background-color: var(--sklearn-color-background);\n",
       "  padding-right: 1em;\n",
       "  padding-left: 1em;\n",
       "}\n",
       "\n",
       "\n",
       "/* Toggleable style: style used for estimator/Pipeline/ColumnTransformer box that is\n",
       "clickable and can be expanded/collapsed.\n",
       "- Pipeline and ColumnTransformer use this feature and define the default style\n",
       "- Estimators will overwrite some part of the style using the `sk-estimator` class\n",
       "*/\n",
       "\n",
       "/* Pipeline and ColumnTransformer style (default) */\n",
       "\n",
       "#sk-container-id-3 div.sk-toggleable {\n",
       "  /* Default theme specific background. It is overwritten whether we have a\n",
       "  specific estimator or a Pipeline/ColumnTransformer */\n",
       "  background-color: var(--sklearn-color-background);\n",
       "}\n",
       "\n",
       "/* Toggleable label */\n",
       "#sk-container-id-3 label.sk-toggleable__label {\n",
       "  cursor: pointer;\n",
       "  display: block;\n",
       "  width: 100%;\n",
       "  margin-bottom: 0;\n",
       "  padding: 0.5em;\n",
       "  box-sizing: border-box;\n",
       "  text-align: center;\n",
       "}\n",
       "\n",
       "#sk-container-id-3 label.sk-toggleable__label-arrow:before {\n",
       "  /* Arrow on the left of the label */\n",
       "  content: \"▸\";\n",
       "  float: left;\n",
       "  margin-right: 0.25em;\n",
       "  color: var(--sklearn-color-icon);\n",
       "}\n",
       "\n",
       "#sk-container-id-3 label.sk-toggleable__label-arrow:hover:before {\n",
       "  color: var(--sklearn-color-text);\n",
       "}\n",
       "\n",
       "/* Toggleable content - dropdown */\n",
       "\n",
       "#sk-container-id-3 div.sk-toggleable__content {\n",
       "  max-height: 0;\n",
       "  max-width: 0;\n",
       "  overflow: hidden;\n",
       "  text-align: left;\n",
       "  /* unfitted */\n",
       "  background-color: var(--sklearn-color-unfitted-level-0);\n",
       "}\n",
       "\n",
       "#sk-container-id-3 div.sk-toggleable__content.fitted {\n",
       "  /* fitted */\n",
       "  background-color: var(--sklearn-color-fitted-level-0);\n",
       "}\n",
       "\n",
       "#sk-container-id-3 div.sk-toggleable__content pre {\n",
       "  margin: 0.2em;\n",
       "  border-radius: 0.25em;\n",
       "  color: var(--sklearn-color-text);\n",
       "  /* unfitted */\n",
       "  background-color: var(--sklearn-color-unfitted-level-0);\n",
       "}\n",
       "\n",
       "#sk-container-id-3 div.sk-toggleable__content.fitted pre {\n",
       "  /* unfitted */\n",
       "  background-color: var(--sklearn-color-fitted-level-0);\n",
       "}\n",
       "\n",
       "#sk-container-id-3 input.sk-toggleable__control:checked~div.sk-toggleable__content {\n",
       "  /* Expand drop-down */\n",
       "  max-height: 200px;\n",
       "  max-width: 100%;\n",
       "  overflow: auto;\n",
       "}\n",
       "\n",
       "#sk-container-id-3 input.sk-toggleable__control:checked~label.sk-toggleable__label-arrow:before {\n",
       "  content: \"▾\";\n",
       "}\n",
       "\n",
       "/* Pipeline/ColumnTransformer-specific style */\n",
       "\n",
       "#sk-container-id-3 div.sk-label input.sk-toggleable__control:checked~label.sk-toggleable__label {\n",
       "  color: var(--sklearn-color-text);\n",
       "  background-color: var(--sklearn-color-unfitted-level-2);\n",
       "}\n",
       "\n",
       "#sk-container-id-3 div.sk-label.fitted input.sk-toggleable__control:checked~label.sk-toggleable__label {\n",
       "  background-color: var(--sklearn-color-fitted-level-2);\n",
       "}\n",
       "\n",
       "/* Estimator-specific style */\n",
       "\n",
       "/* Colorize estimator box */\n",
       "#sk-container-id-3 div.sk-estimator input.sk-toggleable__control:checked~label.sk-toggleable__label {\n",
       "  /* unfitted */\n",
       "  background-color: var(--sklearn-color-unfitted-level-2);\n",
       "}\n",
       "\n",
       "#sk-container-id-3 div.sk-estimator.fitted input.sk-toggleable__control:checked~label.sk-toggleable__label {\n",
       "  /* fitted */\n",
       "  background-color: var(--sklearn-color-fitted-level-2);\n",
       "}\n",
       "\n",
       "#sk-container-id-3 div.sk-label label.sk-toggleable__label,\n",
       "#sk-container-id-3 div.sk-label label {\n",
       "  /* The background is the default theme color */\n",
       "  color: var(--sklearn-color-text-on-default-background);\n",
       "}\n",
       "\n",
       "/* On hover, darken the color of the background */\n",
       "#sk-container-id-3 div.sk-label:hover label.sk-toggleable__label {\n",
       "  color: var(--sklearn-color-text);\n",
       "  background-color: var(--sklearn-color-unfitted-level-2);\n",
       "}\n",
       "\n",
       "/* Label box, darken color on hover, fitted */\n",
       "#sk-container-id-3 div.sk-label.fitted:hover label.sk-toggleable__label.fitted {\n",
       "  color: var(--sklearn-color-text);\n",
       "  background-color: var(--sklearn-color-fitted-level-2);\n",
       "}\n",
       "\n",
       "/* Estimator label */\n",
       "\n",
       "#sk-container-id-3 div.sk-label label {\n",
       "  font-family: monospace;\n",
       "  font-weight: bold;\n",
       "  display: inline-block;\n",
       "  line-height: 1.2em;\n",
       "}\n",
       "\n",
       "#sk-container-id-3 div.sk-label-container {\n",
       "  text-align: center;\n",
       "}\n",
       "\n",
       "/* Estimator-specific */\n",
       "#sk-container-id-3 div.sk-estimator {\n",
       "  font-family: monospace;\n",
       "  border: 1px dotted var(--sklearn-color-border-box);\n",
       "  border-radius: 0.25em;\n",
       "  box-sizing: border-box;\n",
       "  margin-bottom: 0.5em;\n",
       "  /* unfitted */\n",
       "  background-color: var(--sklearn-color-unfitted-level-0);\n",
       "}\n",
       "\n",
       "#sk-container-id-3 div.sk-estimator.fitted {\n",
       "  /* fitted */\n",
       "  background-color: var(--sklearn-color-fitted-level-0);\n",
       "}\n",
       "\n",
       "/* on hover */\n",
       "#sk-container-id-3 div.sk-estimator:hover {\n",
       "  /* unfitted */\n",
       "  background-color: var(--sklearn-color-unfitted-level-2);\n",
       "}\n",
       "\n",
       "#sk-container-id-3 div.sk-estimator.fitted:hover {\n",
       "  /* fitted */\n",
       "  background-color: var(--sklearn-color-fitted-level-2);\n",
       "}\n",
       "\n",
       "/* Specification for estimator info (e.g. \"i\" and \"?\") */\n",
       "\n",
       "/* Common style for \"i\" and \"?\" */\n",
       "\n",
       ".sk-estimator-doc-link,\n",
       "a:link.sk-estimator-doc-link,\n",
       "a:visited.sk-estimator-doc-link {\n",
       "  float: right;\n",
       "  font-size: smaller;\n",
       "  line-height: 1em;\n",
       "  font-family: monospace;\n",
       "  background-color: var(--sklearn-color-background);\n",
       "  border-radius: 1em;\n",
       "  height: 1em;\n",
       "  width: 1em;\n",
       "  text-decoration: none !important;\n",
       "  margin-left: 1ex;\n",
       "  /* unfitted */\n",
       "  border: var(--sklearn-color-unfitted-level-1) 1pt solid;\n",
       "  color: var(--sklearn-color-unfitted-level-1);\n",
       "}\n",
       "\n",
       ".sk-estimator-doc-link.fitted,\n",
       "a:link.sk-estimator-doc-link.fitted,\n",
       "a:visited.sk-estimator-doc-link.fitted {\n",
       "  /* fitted */\n",
       "  border: var(--sklearn-color-fitted-level-1) 1pt solid;\n",
       "  color: var(--sklearn-color-fitted-level-1);\n",
       "}\n",
       "\n",
       "/* On hover */\n",
       "div.sk-estimator:hover .sk-estimator-doc-link:hover,\n",
       ".sk-estimator-doc-link:hover,\n",
       "div.sk-label-container:hover .sk-estimator-doc-link:hover,\n",
       ".sk-estimator-doc-link:hover {\n",
       "  /* unfitted */\n",
       "  background-color: var(--sklearn-color-unfitted-level-3);\n",
       "  color: var(--sklearn-color-background);\n",
       "  text-decoration: none;\n",
       "}\n",
       "\n",
       "div.sk-estimator.fitted:hover .sk-estimator-doc-link.fitted:hover,\n",
       ".sk-estimator-doc-link.fitted:hover,\n",
       "div.sk-label-container:hover .sk-estimator-doc-link.fitted:hover,\n",
       ".sk-estimator-doc-link.fitted:hover {\n",
       "  /* fitted */\n",
       "  background-color: var(--sklearn-color-fitted-level-3);\n",
       "  color: var(--sklearn-color-background);\n",
       "  text-decoration: none;\n",
       "}\n",
       "\n",
       "/* Span, style for the box shown on hovering the info icon */\n",
       ".sk-estimator-doc-link span {\n",
       "  display: none;\n",
       "  z-index: 9999;\n",
       "  position: relative;\n",
       "  font-weight: normal;\n",
       "  right: .2ex;\n",
       "  padding: .5ex;\n",
       "  margin: .5ex;\n",
       "  width: min-content;\n",
       "  min-width: 20ex;\n",
       "  max-width: 50ex;\n",
       "  color: var(--sklearn-color-text);\n",
       "  box-shadow: 2pt 2pt 4pt #999;\n",
       "  /* unfitted */\n",
       "  background: var(--sklearn-color-unfitted-level-0);\n",
       "  border: .5pt solid var(--sklearn-color-unfitted-level-3);\n",
       "}\n",
       "\n",
       ".sk-estimator-doc-link.fitted span {\n",
       "  /* fitted */\n",
       "  background: var(--sklearn-color-fitted-level-0);\n",
       "  border: var(--sklearn-color-fitted-level-3);\n",
       "}\n",
       "\n",
       ".sk-estimator-doc-link:hover span {\n",
       "  display: block;\n",
       "}\n",
       "\n",
       "/* \"?\"-specific style due to the `<a>` HTML tag */\n",
       "\n",
       "#sk-container-id-3 a.estimator_doc_link {\n",
       "  float: right;\n",
       "  font-size: 1rem;\n",
       "  line-height: 1em;\n",
       "  font-family: monospace;\n",
       "  background-color: var(--sklearn-color-background);\n",
       "  border-radius: 1rem;\n",
       "  height: 1rem;\n",
       "  width: 1rem;\n",
       "  text-decoration: none;\n",
       "  /* unfitted */\n",
       "  color: var(--sklearn-color-unfitted-level-1);\n",
       "  border: var(--sklearn-color-unfitted-level-1) 1pt solid;\n",
       "}\n",
       "\n",
       "#sk-container-id-3 a.estimator_doc_link.fitted {\n",
       "  /* fitted */\n",
       "  border: var(--sklearn-color-fitted-level-1) 1pt solid;\n",
       "  color: var(--sklearn-color-fitted-level-1);\n",
       "}\n",
       "\n",
       "/* On hover */\n",
       "#sk-container-id-3 a.estimator_doc_link:hover {\n",
       "  /* unfitted */\n",
       "  background-color: var(--sklearn-color-unfitted-level-3);\n",
       "  color: var(--sklearn-color-background);\n",
       "  text-decoration: none;\n",
       "}\n",
       "\n",
       "#sk-container-id-3 a.estimator_doc_link.fitted:hover {\n",
       "  /* fitted */\n",
       "  background-color: var(--sklearn-color-fitted-level-3);\n",
       "}\n",
       "</style><div id=\"sk-container-id-3\" class=\"sk-top-container\"><div class=\"sk-text-repr-fallback\"><pre>KNeighborsClassifier()</pre><b>In a Jupyter environment, please rerun this cell to show the HTML representation or trust the notebook. <br />On GitHub, the HTML representation is unable to render, please try loading this page with nbviewer.org.</b></div><div class=\"sk-container\" hidden><div class=\"sk-item\"><div class=\"sk-estimator fitted sk-toggleable\"><input class=\"sk-toggleable__control sk-hidden--visually\" id=\"sk-estimator-id-3\" type=\"checkbox\" checked><label for=\"sk-estimator-id-3\" class=\"sk-toggleable__label fitted sk-toggleable__label-arrow fitted\">&nbsp;&nbsp;KNeighborsClassifier<a class=\"sk-estimator-doc-link fitted\" rel=\"noreferrer\" target=\"_blank\" href=\"https://scikit-learn.org/1.4/modules/generated/sklearn.neighbors.KNeighborsClassifier.html\">?<span>Documentation for KNeighborsClassifier</span></a><span class=\"sk-estimator-doc-link fitted\">i<span>Fitted</span></span></label><div class=\"sk-toggleable__content fitted\"><pre>KNeighborsClassifier()</pre></div> </div></div></div></div>"
      ],
      "text/plain": [
       "KNeighborsClassifier()"
      ]
     },
     "execution_count": 29,
     "metadata": {},
     "output_type": "execute_result"
    }
   ],
   "source": [
    "knn_clf = KNeighborsClassifier()\n",
    "knn_clf.fit(X_train, y_multilabel)"
   ]
  },
  {
   "cell_type": "code",
   "execution_count": 30,
   "id": "42723bc6-1b3e-41e8-bff0-e63744581e09",
   "metadata": {},
   "outputs": [
    {
     "data": {
      "text/plain": [
       "array([[False,  True]])"
      ]
     },
     "execution_count": 30,
     "metadata": {},
     "output_type": "execute_result"
    }
   ],
   "source": [
    "knn_clf.predict([some_digit]) "
   ]
  },
  {
   "cell_type": "markdown",
   "id": "0ce7b86c-8073-4226-bcae-f12209cd54d9",
   "metadata": {},
   "source": [
    "# Multioutput Classification "
   ]
  },
  {
   "cell_type": "markdown",
   "id": "6a1b3164-4365-4d39-aad2-50539ad1323c",
   "metadata": {},
   "source": [
    "This is an extension of multilabel as we allow a prediction to return multiple labels, but each label can itself be more than one value.\n",
    "The example in the book is removing noise from an image - as the output is a set of labels, representing every pixel, which can have multiple values ranging from 0 to 255."
   ]
  },
  {
   "cell_type": "code",
   "execution_count": 32,
   "id": "a169bc33-c609-47b8-8c2e-35979082364f",
   "metadata": {},
   "outputs": [],
   "source": [
    "noise = np.random.randint(0, 100, (len(X_train), 784))\n",
    "X_train_mod = X_train + noise\n",
    "noise = np.random.randint(0, 100, (len(X_test), 784))\n",
    "X_test_mod = X_test + noise\n",
    "\n",
    "y_train_mod = X_train\n",
    "y_test_mod = X_test\n",
    "some_index = 0"
   ]
  },
  {
   "cell_type": "code",
   "execution_count": 49,
   "id": "bfa4f53f-aee0-4b7f-b6a4-f85747614364",
   "metadata": {},
   "outputs": [
    {
     "data": {
      "image/png": "[encoded data removed]",
      "text/plain": [
       "<Figure size 640x480 with 1 Axes>"
      ]
     },
     "metadata": {},
     "output_type": "display_data"
    }
   ],
   "source": [
    "plot_digit(X_test_mod[0])"
   ]
  },
  {
   "cell_type": "code",
   "execution_count": 42,
   "id": "2ba06b26-788d-4783-94e3-12d95fe0d84b",
   "metadata": {},
   "outputs": [
    {
     "data": {
      "image/png": "[encoded data removed]",
      "text/plain": [
       "<Figure size 640x480 with 1 Axes>"
      ]
     },
     "metadata": {},
     "output_type": "display_data"
    }
   ],
   "source": [
    "\n",
    "\n",
    "knn_clf.fit(X_train_mod, y_train_mod)\n",
    "clean_digit = knn_clf.predict([X_test_mod[some_index]])\n",
    "plot_digit(clean_digit)\n"
   ]
  },
  {
   "cell_type": "code",
   "execution_count": null,
   "id": "77dd84aa-c752-409f-8170-565eadcf6736",
   "metadata": {},
   "outputs": [],
   "source": []
  },
  {
   "cell_type": "code",
   "execution_count": null,
   "id": "32410163-72c4-4565-bacc-59211203c372",
   "metadata": {},
   "outputs": [],
   "source": []
  }
 ],
 "metadata": {
  "kernelspec": {
   "display_name": "hands-on-ml2",
   "language": "python",
   "name": "hands-on-ml2"
  },
  "language_info": {
   "codemirror_mode": {
    "name": "ipython",
    "version": 3
   },
   "file_extension": ".py",
   "mimetype": "text/x-python",
   "name": "python",
   "nbconvert_exporter": "python",
   "pygments_lexer": "ipython3",
   "version": "3.10.5"
  }
 },
 "nbformat": 4,
 "nbformat_minor": 5
}
